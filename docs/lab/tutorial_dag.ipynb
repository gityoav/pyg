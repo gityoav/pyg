{
 "cells": [
  {
   "cell_type": "markdown",
   "id": "c1cdf4e2-e633-44d1-903e-148e555f8e4c",
   "metadata": {},
   "source": [
    "# Setting up a DAG for your calculation process"
   ]
  },
  {
   "cell_type": "markdown",
   "id": "ed6a0797-c06b-46a0-863d-c94b9ad662e8",
   "metadata": {},
   "source": [
    "There are multiple frameworks for setting up a calculation tree as a direactional acyclic graph (DAG). \n",
    "\n",
    "* mdf (https://github.com/man-group/mdf) \n",
    "* tributary (https://github.com/timkpaine/tributary)\n",
    "* streamz (https://streamz.readthedocs.io/en/latest/)\n",
    "\n",
    "In the financial world, Goldman's SecDB was the father of all graph based calculations, followed by JP Morgan's Athena. More recently, BoA's Quartz are all well known. There is a commercial package available by Beacon, set up by Kirat Singh and I wholeheartedly recommend watching (https://www.youtube.com/watch?v=lTOP_shhVBQ) to understand the inspiration for pyg. \n",
    "\n",
    "We think the approach we took within pyg is very intuitive and most importantly, very easy to debug and track. The inspiration actually comes from Excel and thinking of each cell in Excell as a \"micro-service\". This means that the cell is a self-managed unit and is stored at the Mongo database as such. Each cell contains:\n",
    "\n",
    "* its own address and location in the database\n",
    "* its inputs and references to its inputs\n",
    "* its function\n",
    "* its outputs\n",
    "* its calculation schedule\n",
    "\n",
    "The framework supports multiple forms of DAG:\n",
    "\n",
    "* in-memory cells & graph\n",
    "* in-memory async graph\n",
    "* mongodb-persistent graph\n",
    "* mongodb-persistent async graph\n"
   ]
  },
  {
   "cell_type": "code",
   "execution_count": 1,
   "id": "9b7f7ecf-f17f-4ce8-a2ae-57bb98328d4d",
   "metadata": {},
   "outputs": [],
   "source": [
    "from pyg import *\n",
    "from pyg import add_ , mul_ # we will be using add_(a,b) and mul_(a,b) as a simple example for setting up network"
   ]
  },
  {
   "cell_type": "markdown",
   "id": "5cb9c567-04cc-473f-9969-99bcbcdf4bd8",
   "metadata": {},
   "source": [
    "## In memory network\n",
    "\n",
    "The base cell is in-memory and is calculation policy is not to recalculate once it has an outpu."
   ]
  },
  {
   "cell_type": "code",
   "execution_count": 2,
   "id": "d40dc448-d9a6-4175-8af1-f3ecd7ce8087",
   "metadata": {},
   "outputs": [
    {
     "data": {
      "text/plain": [
       "cell\n",
       "{'a': 1, 'b': 2, 'function': <function add_ at 0x0000011CA70AB1F0>}"
      ]
     },
     "execution_count": 2,
     "metadata": {},
     "output_type": "execute_result"
    }
   ],
   "source": [
    "a = cell(add_, a = 1, b = 2)\n",
    "b = cell(add_, a = a, b = a)\n",
    "c = cell(add_, a = a, b = b)\n",
    "\n",
    "a"
   ]
  },
  {
   "cell_type": "code",
   "execution_count": 3,
   "id": "6bd206e1-94f3-4282-819d-b5ca971154b7",
   "metadata": {},
   "outputs": [
    {
     "name": "stderr",
     "output_type": "stream",
     "text": [
      "2021-11-22 11:20:40,236 - pyg - INFO - None\n"
     ]
    },
    {
     "data": {
      "text/plain": [
       "cell\n",
       "a:\n",
       "    1\n",
       "b:\n",
       "    2\n",
       "function:\n",
       "    <function add_ at 0x0000011CA70AB1F0>\n",
       "join:\n",
       "    ij\n",
       "method:\n",
       "    None\n",
       "columns:\n",
       "    ij\n",
       "data:\n",
       "    3\n",
       "updated:\n",
       "    2021-11-22 11:20:40.251842"
      ]
     },
     "execution_count": 3,
     "metadata": {},
     "output_type": "execute_result"
    }
   ],
   "source": [
    "a = a()\n",
    "assert a.data == 3\n",
    "a"
   ]
  },
  {
   "cell_type": "code",
   "execution_count": 4,
   "id": "286a44f0-258d-4de2-a1bb-5f0719f46bdf",
   "metadata": {},
   "outputs": [
    {
     "name": "stderr",
     "output_type": "stream",
     "text": [
      "2021-11-22 11:20:40,272 - pyg - INFO - None\n",
      "2021-11-22 11:20:40,278 - pyg - INFO - None\n",
      "2021-11-22 11:20:40,283 - pyg - INFO - None\n"
     ]
    }
   ],
   "source": [
    "b = b()\n",
    "assert b().data == 6"
   ]
  },
  {
   "cell_type": "code",
   "execution_count": 5,
   "id": "de578583-4885-4c1d-a575-e0ed9b889925",
   "metadata": {},
   "outputs": [
    {
     "data": {
      "text/plain": [
       "False"
      ]
     },
     "execution_count": 5,
     "metadata": {},
     "output_type": "execute_result"
    }
   ],
   "source": [
    "b.run()"
   ]
  },
  {
   "cell_type": "markdown",
   "id": "a8fa0f2b-9782-4b2c-8bc1-be4e44a2eab5",
   "metadata": {},
   "source": [
    "Once b has data, it will not want to run again (b.run() being False). However... let us remove the output:"
   ]
  },
  {
   "cell_type": "code",
   "execution_count": 6,
   "id": "c4cacded-d468-4b16-a65a-5a89e3ee9fef",
   "metadata": {},
   "outputs": [
    {
     "data": {
      "text/plain": [
       "True"
      ]
     },
     "execution_count": 6,
     "metadata": {},
     "output_type": "execute_result"
    }
   ],
   "source": [
    "b = b - 'data'\n",
    "b.run()"
   ]
  },
  {
   "cell_type": "markdown",
   "id": "3d4e5ee2-2378-4330-b99f-df9792d930c2",
   "metadata": {
    "tags": []
   },
   "source": [
    "The child c can force b to recalculate... and more importantly, we can force all of c's parents to calculate too."
   ]
  },
  {
   "cell_type": "code",
   "execution_count": 7,
   "id": "ea83220b-48f5-42d8-9528-2b0b4a04dd0b",
   "metadata": {},
   "outputs": [
    {
     "name": "stderr",
     "output_type": "stream",
     "text": [
      "2021-11-22 11:20:40,333 - pyg - INFO - None\n",
      "2021-11-22 11:20:40,335 - pyg - INFO - None\n",
      "2021-11-22 11:20:40,338 - pyg - INFO - None\n",
      "2021-11-22 11:20:40,340 - pyg - INFO - None\n",
      "2021-11-22 11:20:40,343 - pyg - INFO - None\n",
      "2021-11-22 11:20:40,349 - pyg - INFO - None\n",
      "2021-11-22 11:20:40,355 - pyg - INFO - None\n",
      "2021-11-22 11:20:40,360 - pyg - INFO - None\n",
      "2021-11-22 11:20:40,363 - pyg - INFO - None\n",
      "2021-11-22 11:20:40,365 - pyg - INFO - None\n",
      "2021-11-22 11:20:40,368 - pyg - INFO - None\n"
     ]
    }
   ],
   "source": [
    "c = c.go() # force me to calculate\n",
    "c = c.go(1) # force me and 1 generation up to calculate\n",
    "c = c.go(-1) # force me and ALL my parents to calculated"
   ]
  },
  {
   "cell_type": "markdown",
   "id": "ae42a0b5-025f-424c-aed0-bfb6c8dd7eaa",
   "metadata": {},
   "source": [
    "## In-memory with address\n",
    "\n",
    "If we want to start building a graph, we need to let what primary keys (pk parameters) will be used for storage, and we need to provide these keys:"
   ]
  },
  {
   "cell_type": "code",
   "execution_count": 8,
   "id": "abc46972-1990-4238-84f8-49a718c37d66",
   "metadata": {},
   "outputs": [
    {
     "data": {
      "text/plain": [
       "cell\n",
       "a:\n",
       "    1\n",
       "b:\n",
       "    2\n",
       "pk:\n",
       "    key\n",
       "key:\n",
       "    a\n",
       "function:\n",
       "    <function add_ at 0x0000011CA70AB1F0>"
      ]
     },
     "execution_count": 8,
     "metadata": {},
     "output_type": "execute_result"
    }
   ],
   "source": [
    "a = cell(add_, a = 1, b = 2, pk = 'key', key = 'a')\n",
    "b = cell(add_, a = a, b = a, pk = 'key', key = 'b')\n",
    "c = cell(add_, a = a, b = b, pk = 'key', key = 'c')\n",
    "a"
   ]
  },
  {
   "cell_type": "code",
   "execution_count": 9,
   "id": "b87e61c0-bd02-4038-82d1-bce62a572c3b",
   "metadata": {},
   "outputs": [
    {
     "name": "stderr",
     "output_type": "stream",
     "text": [
      "2021-11-22 11:20:40,409 - pyg - INFO - get_cell(key = 'c')()\n",
      "2021-11-22 11:20:40,413 - pyg - INFO - get_cell(key = 'a')()\n",
      "2021-11-22 11:20:40,416 - pyg - INFO - get_cell(key = 'b')()\n"
     ]
    }
   ],
   "source": [
    "c = c()"
   ]
  },
  {
   "cell_type": "markdown",
   "id": "727be338-df21-47a2-befe-cea47aff22c6",
   "metadata": {},
   "source": [
    "Both the cells and their data then becomes available for access:"
   ]
  },
  {
   "cell_type": "code",
   "execution_count": 10,
   "id": "57645e54-8fcc-4fc6-9da7-8708e5dfbf19",
   "metadata": {},
   "outputs": [
    {
     "data": {
      "text/plain": [
       "9"
      ]
     },
     "execution_count": 10,
     "metadata": {},
     "output_type": "execute_result"
    }
   ],
   "source": [
    "get_data(key = 'c')"
   ]
  },
  {
   "cell_type": "markdown",
   "id": "4916a97a-70fc-4068-aa0b-a1cee1442aed",
   "metadata": {},
   "source": [
    "Since we built up a graph, a parent can force a calculation downstream too.."
   ]
  },
  {
   "cell_type": "code",
   "execution_count": 11,
   "id": "fb6b8bcc-09e1-44d1-b98a-c8c0d5d72eca",
   "metadata": {
    "tags": []
   },
   "outputs": [
    {
     "name": "stderr",
     "output_type": "stream",
     "text": [
      "2021-11-22 11:20:40,454 - pyg - INFO - get_cell(key = 'a')()\n",
      "2021-11-22 11:20:40,457 - pyg - INFO - get_cell(key = 'b')()\n",
      "2021-11-22 11:20:40,463 - pyg - INFO - get_cell(key = 'c')()\n"
     ]
    },
    {
     "data": {
      "text/plain": [
       "21"
      ]
     },
     "execution_count": 11,
     "metadata": {},
     "output_type": "execute_result"
    }
   ],
   "source": [
    "a.a = 5\n",
    "a = a.push()\n",
    "get_data(key = 'c')"
   ]
  },
  {
   "cell_type": "markdown",
   "id": "7e6b7da5-86af-4593-b92a-0d5063814b16",
   "metadata": {
    "tags": []
   },
   "source": [
    "## In-memory, async\n",
    "\n",
    "We replace cell with async cell (acell) but otherwise, most stuff remains the same..."
   ]
  },
  {
   "cell_type": "code",
   "execution_count": 12,
   "id": "c82f9892-c5ca-4e56-81c3-b6ee62804c9e",
   "metadata": {},
   "outputs": [
    {
     "name": "stderr",
     "output_type": "stream",
     "text": [
      "2021-11-22 11:20:40,475 - pyg - INFO - get_cell(key = 'c')()\n",
      "2021-11-22 11:20:40,481 - pyg - INFO - get_cell(key = 'a')()\n",
      "2021-11-22 11:20:40,483 - pyg - INFO - get_cell(key = 'b')()\n",
      "2021-11-22 11:20:40,489 - pyg - INFO - get_cell(key = 'a')()\n",
      "2021-11-22 11:20:40,490 - pyg - INFO - get_cell(key = 'a')()\n"
     ]
    }
   ],
   "source": [
    "a = acell(add_, a = 3, b = 2, pk = 'key', key = 'a')\n",
    "b = acell(add_, a = a, b = a, pk = 'key', key = 'b')\n",
    "c = acell(add_, a = a, b = b, pk = 'key', key = 'c')\n",
    "\n",
    "c = await c.go(-1)"
   ]
  },
  {
   "cell_type": "markdown",
   "id": "319091fb-380c-4b49-a43c-a0d1a3acc805",
   "metadata": {},
   "source": [
    "And we can push data down..."
   ]
  },
  {
   "cell_type": "code",
   "execution_count": 13,
   "id": "2c3aa86d-4d14-4ea8-8235-ace74152f327",
   "metadata": {},
   "outputs": [
    {
     "name": "stderr",
     "output_type": "stream",
     "text": [
      "2021-11-22 11:20:40,508 - pyg - INFO - get_cell(key = 'a')()\n",
      "2021-11-22 11:20:40,515 - pyg - INFO - get_cell(key = 'b')()\n",
      "2021-11-22 11:20:40,521 - pyg - INFO - get_cell(key = 'c')()\n"
     ]
    },
    {
     "data": {
      "text/plain": [
       "18"
      ]
     },
     "execution_count": 13,
     "metadata": {},
     "output_type": "execute_result"
    }
   ],
   "source": [
    "a.a = 4\n",
    "a = await a.push()\n",
    "get_data(key = 'c')"
   ]
  },
  {
   "cell_type": "markdown",
   "id": "6a5d3522-45bc-4506-a0ce-1424711c85fd",
   "metadata": {},
   "source": [
    "## Adding database persistence  "
   ]
  },
  {
   "cell_type": "code",
   "execution_count": 14,
   "id": "66958f0e-a58f-4d91-8bf8-54d33ef83a6e",
   "metadata": {},
   "outputs": [
    {
     "name": "stderr",
     "output_type": "stream",
     "text": [
      "2021-11-22 11:20:40,766 - pyg - INFO - INFO: deleting 113 documents based on M{}\n"
     ]
    },
    {
     "data": {
      "text/plain": [
       "<class 'pyg.mongo._cursor.mongo_cursor'> for Collection(Database(MongoClient(host=['localhost:27017'], document_class=dict, tz_aware=False, connect=True), 'db'), 'table') \n",
       "M{} None\n",
       "documents count: 0"
      ]
     },
     "execution_count": 14,
     "metadata": {},
     "output_type": "execute_result"
    }
   ],
   "source": [
    "db = partial(mongo_table, db = 'db', table = 'table', pk = 'key')\n",
    "db().reset.drop()"
   ]
  },
  {
   "cell_type": "code",
   "execution_count": 15,
   "id": "54960ee5-b093-411e-b744-051755b2ab26",
   "metadata": {},
   "outputs": [
    {
     "name": "stderr",
     "output_type": "stream",
     "text": [
      "2021-11-22 11:20:40,930 - pyg - INFO - get_cell(url = 'localhost:27017', db = 'db', table = 'table', key = 'c')()\n",
      "2021-11-22 11:20:40,995 - pyg - INFO - get_cell(url = 'localhost:27017', db = 'db', table = 'table', key = 'a')()\n",
      "2021-11-22 11:20:41,053 - pyg - INFO - get_cell(url = 'localhost:27017', db = 'db', table = 'table', key = 'b')()\n"
     ]
    }
   ],
   "source": [
    "a = db_cell(add_, a = 1, b = 2, pk = 'key', key = 'a', db = db)\n",
    "b = db_cell(add_, a = a, b = a, pk = 'key', key = 'b', db = db)\n",
    "c = db_cell(add_, a = a, b = b, pk = 'key', key = 'c', db = db)\n",
    "c = c()"
   ]
  },
  {
   "cell_type": "code",
   "execution_count": 16,
   "id": "ebe74aa4-a522-4eaf-be1b-14839512df27",
   "metadata": {},
   "outputs": [
    {
     "data": {
      "text/plain": [
       "3"
      ]
     },
     "execution_count": 16,
     "metadata": {},
     "output_type": "execute_result"
    }
   ],
   "source": [
    "get_data('table', 'db', key = 'a') # grabbing data from MongoDB"
   ]
  },
  {
   "cell_type": "code",
   "execution_count": 17,
   "id": "825ca89e-38f9-44ca-8cac-03738b07a561",
   "metadata": {},
   "outputs": [],
   "source": [
    "loaded_a = get_cell('table', 'db', key = 'a') # we save the entire object, not just the values, in the database"
   ]
  },
  {
   "cell_type": "code",
   "execution_count": 18,
   "id": "f89b2312-2e29-4897-9e4d-7b9108573268",
   "metadata": {},
   "outputs": [
    {
     "data": {
      "text/plain": [
       "db_cell\n",
       "db:\n",
       "    functools.partial(<function mongo_table at 0x0000011CA75D3DC0>, db='db', table='table', pk='key')\n",
       "_id:\n",
       "    619b7d09823a957ab56a9522\n",
       "a:\n",
       "    1\n",
       "b:\n",
       "    2\n",
       "columns:\n",
       "    ij\n",
       "data:\n",
       "    3\n",
       "join:\n",
       "    ij\n",
       "key:\n",
       "    a\n",
       "method:\n",
       "    None\n",
       "pk:\n",
       "    ['key']\n",
       "updated:\n",
       "    2021-11-22 11:20:40.997000\n",
       "function:\n",
       "    <function add_ at 0x0000011CA70AB1F0>"
      ]
     },
     "execution_count": 18,
     "metadata": {},
     "output_type": "execute_result"
    }
   ],
   "source": [
    "loaded_a"
   ]
  },
  {
   "cell_type": "code",
   "execution_count": 19,
   "id": "9ca8cb6c-91b3-40d4-afa4-ba929c39de47",
   "metadata": {},
   "outputs": [
    {
     "name": "stderr",
     "output_type": "stream",
     "text": [
      "2021-11-22 11:20:41,575 - pyg - INFO - get_cell(url = 'localhost:27017', db = 'db', table = 'table', key = 'a')()\n",
      "2021-11-22 11:20:41,625 - pyg - INFO - get_cell(url = 'localhost:27017', db = 'db', table = 'table', key = 'b')()\n",
      "2021-11-22 11:20:41,883 - pyg - INFO - get_cell(url = 'localhost:27017', db = 'db', table = 'table', key = 'c')()\n"
     ]
    }
   ],
   "source": [
    "a.a = 6\n",
    "a = a.push()"
   ]
  },
  {
   "cell_type": "code",
   "execution_count": 20,
   "id": "810ee727-1efd-4463-ad75-71783e9a8528",
   "metadata": {},
   "outputs": [
    {
     "data": {
      "text/plain": [
       "8"
      ]
     },
     "execution_count": 20,
     "metadata": {},
     "output_type": "execute_result"
    }
   ],
   "source": [
    "get_data('table', 'db', key = 'a')"
   ]
  },
  {
   "cell_type": "markdown",
   "id": "3ef0ea13-b9d3-4375-8291-b089d4ce860b",
   "metadata": {
    "tags": []
   },
   "source": [
    "## database persistence, asynchronously\n",
    "\n",
    "The Motor library provides an asynchronous API to MongoDB. We use this to replicate the same simple functionality.  "
   ]
  },
  {
   "cell_type": "code",
   "execution_count": 21,
   "id": "e6f52e4f-238a-4405-80a8-5bc06b6f5b78",
   "metadata": {},
   "outputs": [
    {
     "name": "stderr",
     "output_type": "stream",
     "text": [
      "2021-11-22 11:20:42,308 - pyg - INFO - get_cell(url = 'localhost:27017', db = 'db', table = 'table', key = 'c')()\n",
      "2021-11-22 11:20:42,338 - pyg - INFO - get_cell(url = 'localhost:27017', db = 'db', table = 'table', key = 'a')()\n",
      "2021-11-22 11:20:42,344 - pyg - INFO - get_cell(url = 'localhost:27017', db = 'db', table = 'table', key = 'b')()\n",
      "2021-11-22 11:20:42,376 - pyg - INFO - get_cell(url = 'localhost:27017', db = 'db', table = 'table', key = 'a')()\n",
      "2021-11-22 11:20:42,388 - pyg - INFO - get_cell(url = 'localhost:27017', db = 'db', table = 'table', key = 'a')()\n"
     ]
    }
   ],
   "source": [
    "a = db_acell(add_, a = 5, b = 2, pk = 'key', key = 'a', db = db)\n",
    "b = db_acell(add_, a = a, b = a, pk = 'key', key = 'b', db = db)\n",
    "c = db_acell(add_, a = a, b = b, pk = 'key', key = 'c', db = db)\n",
    "await c.go(-1)\n",
    "assert get_data('table', 'db', key = 'c') == 21"
   ]
  },
  {
   "cell_type": "code",
   "execution_count": 22,
   "id": "8825e832-8138-4ddd-91ec-211b7762cbab",
   "metadata": {},
   "outputs": [
    {
     "name": "stderr",
     "output_type": "stream",
     "text": [
      "2021-11-22 11:20:42,688 - pyg - INFO - get_cell(url = 'localhost:27017', db = 'db', table = 'table', key = 'a')()\n",
      "2021-11-22 11:20:42,742 - pyg - INFO - get_cell(url = 'localhost:27017', db = 'db', table = 'table', key = 'b')()\n",
      "2021-11-22 11:20:42,903 - pyg - INFO - get_cell(url = 'localhost:27017', db = 'db', table = 'table', key = 'c')()\n"
     ]
    }
   ],
   "source": [
    "a = db_acell(add_, a = 5, b = 3, pk = 'key', key = 'a', db = db)\n",
    "a = await a.push()\n",
    "assert get_data('table', 'db', key = 'c') == 24"
   ]
  },
  {
   "cell_type": "code",
   "execution_count": null,
   "id": "5972f872-3f70-4e0a-b635-0ad75d7e7a91",
   "metadata": {},
   "outputs": [],
   "source": []
  },
  {
   "cell_type": "code",
   "execution_count": null,
   "id": "e975a86d-12be-4db6-9757-cb5f7f712371",
   "metadata": {},
   "outputs": [],
   "source": []
  }
 ],
 "metadata": {
  "kernelspec": {
   "display_name": "Python 3 (ipykernel)",
   "language": "python",
   "name": "python3"
  },
  "language_info": {
   "codemirror_mode": {
    "name": "ipython",
    "version": 3
   },
   "file_extension": ".py",
   "mimetype": "text/x-python",
   "name": "python",
   "nbconvert_exporter": "python",
   "pygments_lexer": "ipython3",
   "version": "3.10.8"
  }
 },
 "nbformat": 4,
 "nbformat_minor": 5
}
