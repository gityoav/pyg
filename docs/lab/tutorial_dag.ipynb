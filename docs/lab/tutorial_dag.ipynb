{
 "cells": [
  {
   "cell_type": "markdown",
   "id": "c1cdf4e2-e633-44d1-903e-148e555f8e4c",
   "metadata": {},
   "source": [
    "# pyg.base.cell.push"
   ]
  },
  {
   "cell_type": "markdown",
   "id": "ed6a0797-c06b-46a0-863d-c94b9ad662e8",
   "metadata": {},
   "source": [
    "db_cell supports both pull and push approach to the calculation graph "
   ]
  },
  {
   "cell_type": "code",
   "execution_count": 1,
   "id": "9b7f7ecf-f17f-4ce8-a2ae-57bb98328d4d",
   "metadata": {},
   "outputs": [],
   "source": [
    "from pyg import *"
   ]
  },
  {
   "cell_type": "code",
   "execution_count": 3,
   "id": "81f08f6c-ea42-49f1-824b-ceee7eedc332",
   "metadata": {},
   "outputs": [],
   "source": [
    "db = partial(mongo_table, db = 'test', table = 'test', pk = 'key')"
   ]
  },
  {
   "cell_type": "code",
   "execution_count": null,
   "id": "d40dc448-d9a6-4175-8af1-f3ecd7ce8087",
   "metadata": {},
   "outputs": [],
   "source": [
    "raw_data = db_cell("
   ]
  },
  {
   "cell_type": "code",
   "execution_count": null,
   "id": "6bd206e1-94f3-4282-819d-b5ca971154b7",
   "metadata": {},
   "outputs": [],
   "source": []
  },
  {
   "cell_type": "code",
   "execution_count": null,
   "id": "286a44f0-258d-4de2-a1bb-5f0719f46bdf",
   "metadata": {},
   "outputs": [],
   "source": []
  },
  {
   "cell_type": "code",
   "execution_count": null,
   "id": "de578583-4885-4c1d-a575-e0ed9b889925",
   "metadata": {},
   "outputs": [],
   "source": []
  },
  {
   "cell_type": "code",
   "execution_count": null,
   "id": "ea5df014-b499-413b-85e5-3a82d2d5f5a8",
   "metadata": {},
   "outputs": [],
   "source": []
  },
  {
   "cell_type": "markdown",
   "id": "3d4e5ee2-2378-4330-b99f-df9792d930c2",
   "metadata": {
    "tags": []
   },
   "source": []
  }
 ],
 "metadata": {
  "kernelspec": {
   "display_name": "Python 3 (ipykernel)",
   "language": "python",
   "name": "python3"
  },
  "language_info": {
   "codemirror_mode": {
    "name": "ipython",
    "version": 3
   },
   "file_extension": ".py",
   "mimetype": "text/x-python",
   "name": "python",
   "nbconvert_exporter": "python",
   "pygments_lexer": "ipython3",
   "version": "3.9.7"
  }
 },
 "nbformat": 4,
 "nbformat_minor": 5
}
