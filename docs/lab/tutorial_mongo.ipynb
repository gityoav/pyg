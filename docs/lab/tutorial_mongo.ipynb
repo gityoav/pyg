{
 "cells": [
  {
   "cell_type": "markdown",
   "id": "conscious-cambridge",
   "metadata": {},
   "source": [
    "# pyg.mongo\n",
    "MongoDB has replaced our SQL databases as it is just too much fun to use. MongoDB does have its little quirks:"
   ]
  },
  {
   "cell_type": "markdown",
   "id": "banned-stomach",
   "metadata": {},
   "source": [
    "* The MongoDB 'query document' that replaces the SQL WHERE statements is very powerful but you need a PhD for even the simplest of queries.\n",
    "* too many objects we use (specifically, numpy and pandas objects) cannot be pushed directly easily into Mongo.\n",
    "* Mongo lacks the concept of a table with primary keys. Unstructured data is great but much of how we think of data is structured. \n"
   ]
  },
  {
   "cell_type": "markdown",
   "id": "metropolitan-lebanon",
   "metadata": {},
   "source": [
    "pyg.mongo addresses all three issues:"
   ]
  },
  {
   "cell_type": "markdown",
   "id": "focused-routine",
   "metadata": {},
   "source": [
    "* **q** is a much easier way to generate Mongo queries. We are happy to acknowledge TinyDB <https://tinydb.readthedocs.io/en/latest/usage.html#queries> for the idea.\n",
    "* **mongo_cursor** is a super-charged cursor and in particular, it handles encoding and decoding of objects seemlessly in a way that allows us to store all that we want in Mongo.\n",
    "* **mongo_pk_cursor** manages a table with primary keys and full history audit. We are happy to acknowledge Arctic by the AHL Man team for the initial inspiration "
   ]
  },
  {
   "cell_type": "markdown",
   "id": "signal-survivor",
   "metadata": {},
   "source": [
    "## q\n",
    "The MongoDB interface for query of a collection (table) is via a creation of a query document <https://docs.mongodb.com/manual/tutorial/query-documents/>. \n",
    "This is rather complicated for the average use. For example, if you wanted to locate James Bond in the collection, you would need to compose q query document that looks like this:"
   ]
  },
  {
   "cell_type": "code",
   "execution_count": 1,
   "id": "entertaining-server",
   "metadata": {},
   "outputs": [
    {
     "data": {
      "text/plain": [
       "{'$and': [{'name': {'$eq': 'James'}}, {'surname': {'$eq': 'Bond'}}]}"
      ]
     },
     "execution_count": 1,
     "metadata": {},
     "output_type": "execute_result"
    }
   ],
   "source": [
    "{\"$and\": [{\"name\": {\"$eq\": \"James\"}}, {\"surname\": {\"$eq\": \"Bond\"}}]}"
   ]
  },
  {
   "cell_type": "markdown",
   "id": "mechanical-hammer",
   "metadata": {},
   "source": [
    "It's doable, but not much fun writing. Luckily... within the continuum you can write this instead:"
   ]
  },
  {
   "cell_type": "code",
   "execution_count": 2,
   "id": "latter-mention",
   "metadata": {},
   "outputs": [
    {
     "data": {
      "text/plain": [
       "{\"$and\": [{\"name\": {\"$eq\": \"James\"}}, {\"surname\": {\"$eq\": \"Bond\"}}]}"
      ]
     },
     "execution_count": 2,
     "metadata": {},
     "output_type": "execute_result"
    }
   ],
   "source": [
    "from pyg import *; import re\n",
    "q(name = 'James', surname = 'Bond')"
   ]
  },
  {
   "cell_type": "code",
   "execution_count": 3,
   "id": "worldwide-certificate",
   "metadata": {},
   "outputs": [
    {
     "data": {
      "text/plain": [
       "{\"$and\": [{\"name\": {\"$eq\": \"James\"}}, {\"surname\": {\"$eq\": \"Bond\"}}]}"
      ]
     },
     "execution_count": 3,
     "metadata": {},
     "output_type": "execute_result"
    }
   ],
   "source": [
    "(q.name == 'James') & (q.surname == 'Bond')"
   ]
  },
  {
   "cell_type": "markdown",
   "id": "opposed-annual",
   "metadata": {},
   "source": [
    "How do we create in MongoDB a query document to find all the James who are not Bond?"
   ]
  },
  {
   "cell_type": "code",
   "execution_count": 4,
   "id": "hispanic-publication",
   "metadata": {},
   "outputs": [
    {
     "data": {
      "text/plain": [
       "{\"$and\": [{\"name\": {\"$eq\": \"James\"}}, {\"surname\": {\"$ne\": \"Bond\"}}]}"
      ]
     },
     "execution_count": 4,
     "metadata": {},
     "output_type": "execute_result"
    }
   ],
   "source": [
    "(q.surname!='Bond') & (q.name == 'James')"
   ]
  },
  {
   "cell_type": "code",
   "execution_count": 5,
   "id": "seeing-couple",
   "metadata": {},
   "outputs": [
    {
     "data": {
      "text/plain": [
       "{\"$and\": [{\"$not\": {\"surname\": {\"$eq\": \"Bond\"}}}, {\"name\": {\"$eq\": \"James\"}}]}"
      ]
     },
     "execution_count": 5,
     "metadata": {},
     "output_type": "execute_result"
    }
   ],
   "source": [
    "~(q.surname=='Bond') & (q.name == 'James')"
   ]
  },
  {
   "cell_type": "markdown",
   "id": "attended-divorce",
   "metadata": {},
   "source": [
    "What about records with no surname?"
   ]
  },
  {
   "cell_type": "code",
   "execution_count": 6,
   "id": "identified-gabriel",
   "metadata": {},
   "outputs": [
    {
     "data": {
      "text/plain": [
       "{\"$and\": [{\"name\": {\"$eq\": \"James\"}}, {\"surname\": {\"$exists\": false}}]}"
      ]
     },
     "execution_count": 6,
     "metadata": {},
     "output_type": "execute_result"
    }
   ],
   "source": [
    "(q.name == 'James') - q.surname"
   ]
  },
  {
   "cell_type": "code",
   "execution_count": 7,
   "id": "aboriginal-wrist",
   "metadata": {},
   "outputs": [
    {
     "data": {
      "text/plain": [
       "{\"$and\": [{\"name\": {\"$eq\": \"James\"}}, {\"surname\": {\"$exists\": false}}]}"
      ]
     },
     "execution_count": 7,
     "metadata": {},
     "output_type": "execute_result"
    }
   ],
   "source": [
    "q(q.surname.not_exists, name = 'James')"
   ]
  },
  {
   "cell_type": "markdown",
   "id": "random-expense",
   "metadata": {},
   "source": [
    "And what about records with james rather than James?"
   ]
  },
  {
   "cell_type": "code",
   "execution_count": 8,
   "id": "loose-capitol",
   "metadata": {},
   "outputs": [
    {
     "data": {
      "text/plain": [
       "$and:\n",
       "    [{\"name\": {\"$in\": [\"james\", \"James\"]}}, {\"surname\": {\"$in\": [\"bond\", \"Bond\"]}}]"
      ]
     },
     "execution_count": 8,
     "metadata": {},
     "output_type": "execute_result"
    }
   ],
   "source": [
    "q(name = ['james', 'James'], surname = ['bond', 'Bond']) ## the result is long so it is represented more nicely..."
   ]
  },
  {
   "cell_type": "code",
   "execution_count": 9,
   "id": "sixth-crest",
   "metadata": {},
   "outputs": [
    {
     "data": {
      "text/plain": [
       "$and:\n",
       "    [{\"name\": {\"regex\": \"^[J|j]ames\"}}, {\"surname\": {\"regex\": \"^[B|b]ond\"}}]"
      ]
     },
     "execution_count": 9,
     "metadata": {},
     "output_type": "execute_result"
    }
   ],
   "source": [
    "q(name = re.compile('^[J|j]ames'), surname = re.compile('^[B|b]ond'))"
   ]
  },
  {
   "cell_type": "markdown",
   "id": "genuine-bandwidth",
   "metadata": {},
   "source": [
    "As you can see, q is callable and you can put expressions inside it, or you can use the q.key method. \n",
    "\n",
    "<br> If you have funny characters or spaces in your dict..."
   ]
  },
  {
   "cell_type": "code",
   "execution_count": 10,
   "id": "tough-dealer",
   "metadata": {},
   "outputs": [
    {
     "data": {
      "text/plain": [
       "{\"funny$text with # weird £ characters\": {\"$exists\": true}}"
      ]
     },
     "execution_count": 10,
     "metadata": {},
     "output_type": "execute_result"
    }
   ],
   "source": [
    "q['funny$text with # weird £ characters'].exists"
   ]
  },
  {
   "cell_type": "markdown",
   "id": "tired-recorder",
   "metadata": {},
   "source": [
    "If your document is nested and there are subkeys, that is ok, you can use either:"
   ]
  },
  {
   "cell_type": "code",
   "execution_count": 11,
   "id": "linear-infrastructure",
   "metadata": {},
   "outputs": [
    {
     "data": {
      "text/plain": [
       "$or:\n",
       "    mdict\n",
       "    $and:\n",
       "        [{\"key.other\": {\"$exists\": true}}, {\"some.other.stuff\": {\"$in\": [1, 2]}}]\n",
       "    M{\"key.subkey\": {\"$gte\": 100}}"
      ]
     },
     "execution_count": 11,
     "metadata": {},
     "output_type": "execute_result"
    }
   ],
   "source": [
    "(q['key.subkey']>=100) | ((q.key.other.exists) & (q.some.other.stuff == [1,2]))"
   ]
  },
  {
   "cell_type": "markdown",
   "id": "obvious-locking",
   "metadata": {},
   "source": [
    "q does not have the full power of the Mongo query document but it will get you to 95% of what you want. <br> We end with a fun James Bond query. If we want to find the bond films with all actors who played James Bond after 1980..."
   ]
  },
  {
   "cell_type": "code",
   "execution_count": 12,
   "id": "ancient-sterling",
   "metadata": {},
   "outputs": [
    {
     "data": {
      "text/plain": [
       "dictable[4 x 2]\n",
       "name   |surname\n",
       "Daniel |Craig  \n",
       "Sean   |Connery\n",
       "Roger  |Moore  \n",
       "Timothy|Dalton "
      ]
     },
     "execution_count": 12,
     "metadata": {},
     "output_type": "execute_result"
    }
   ],
   "source": [
    "bonds = dictable(name = ['Daniel', 'Sean', 'Roger', 'Timothy'], surname = ['Craig', 'Connery', 'Moore', 'Dalton'])\n",
    "bonds"
   ]
  },
  {
   "cell_type": "code",
   "execution_count": 13,
   "id": "disabled-commons",
   "metadata": {},
   "outputs": [
    {
     "data": {
      "text/plain": [
       "$and:\n",
       "    mdict\n",
       "    $or:\n",
       "        M{\"$and\": [{\"name\": {\"$eq\": \"Daniel\"}}, {\"surname\": {\"$eq\": \"Craig\"}}]}\n",
       "        M{\"$and\": [{\"name\": {\"$eq\": \"Roger\"}}, {\"surname\": {\"$eq\": \"Moore\"}}]}\n",
       "        M{\"$and\": [{\"name\": {\"$eq\": \"Sean\"}}, {\"surname\": {\"$eq\": \"Connery\"}}]}\n",
       "        M{\"$and\": [{\"name\": {\"$eq\": \"Timothy\"}}, {\"surname\": {\"$eq\": \"Dalton\"}}]}\n",
       "    M{\"release_date\": {\"$gt\": datetime.datetime(1980, 1, 1, 0, 0)}}"
      ]
     },
     "execution_count": 13,
     "metadata": {},
     "output_type": "execute_result"
    }
   ],
   "source": [
    "q(list(bonds), q.release_date > dt(1980))"
   ]
  },
  {
   "cell_type": "markdown",
   "id": "armed-satellite",
   "metadata": {},
   "source": [
    "## mongo_cursor\n",
    "The mongo cursor:"
   ]
  },
  {
   "cell_type": "markdown",
   "id": "reduced-courtesy",
   "metadata": {},
   "source": [
    "* enables saving seemlessly objects and data in MongoDB\n",
    "* simplifies filtering\n",
    "* simplifies projecting onto certain keys in document"
   ]
  },
  {
   "cell_type": "markdown",
   "id": "covered-community",
   "metadata": {},
   "source": [
    "### general objects insertion into documents\n",
    "pymongo.Collection supports insertion of documents into it:"
   ]
  },
  {
   "cell_type": "code",
   "execution_count": 14,
   "id": "baking-myanmar",
   "metadata": {},
   "outputs": [
    {
     "data": {
      "text/plain": [
       "<pymongo.results.InsertOneResult at 0x2d26bf25280>"
      ]
     },
     "execution_count": 14,
     "metadata": {},
     "output_type": "execute_result"
    }
   ],
   "source": [
    "from pyg import *; import pymongo as pym; import pytest\n",
    "c = pym.MongoClient()['test']['test']\n",
    "c.drop()                                    # drop all documents\n",
    "c.insert_one(dict(a = 1, b = 2))            # insert a document"
   ]
  },
  {
   "cell_type": "code",
   "execution_count": 15,
   "id": "circular-hostel",
   "metadata": {},
   "outputs": [],
   "source": [
    "assert c.count_documents({}) == 1  # in order to count documents, must apply the empty query document {}"
   ]
  },
  {
   "cell_type": "markdown",
   "id": "sharing-express",
   "metadata": {},
   "source": [
    "We can do similar stuff with a mongo_cursor:"
   ]
  },
  {
   "cell_type": "code",
   "execution_count": 16,
   "id": "owned-cleanup",
   "metadata": {},
   "outputs": [
    {
     "name": "stderr",
     "output_type": "stream",
     "text": [
      "2021-03-07 20:42:47,719 - pyg - INFO - INFO: deleting 1 documents based on M{}\n"
     ]
    },
    {
     "data": {
      "text/plain": [
       "{'a': 1, 'b': 2, '_id': ObjectId('60453ac70e096da27d7d20bf')}"
      ]
     },
     "execution_count": 16,
     "metadata": {},
     "output_type": "execute_result"
    }
   ],
   "source": [
    "t = mongo_table(table = 'test', db = 'test')\n",
    "t.drop()\n",
    "t.insert_one(dict(a = 1, b = 2))"
   ]
  },
  {
   "cell_type": "code",
   "execution_count": 17,
   "id": "moving-delicious",
   "metadata": {},
   "outputs": [],
   "source": [
    "assert len(t) == 1 #no need to specify the filter, mongo_cursor keeps track of the current filter"
   ]
  },
  {
   "cell_type": "markdown",
   "id": "dangerous-spotlight",
   "metadata": {},
   "source": [
    "Annoyingly, raw pymongo.Collection cannot encode for lots of existing objects."
   ]
  },
  {
   "cell_type": "code",
   "execution_count": 18,
   "id": "bulgarian-marker",
   "metadata": {},
   "outputs": [],
   "source": [
    "ts = pd.Series([1.,2.], drange(2000,1))\n",
    "a = np.arange(3)\n",
    "f = np.float32(32.0)\n",
    "with pytest.raises(Exception):\n",
    "    c.insert_one(dict(a = a)) # cannot insert an array\n",
    "with pytest.raises(Exception):\n",
    "    c.insert_one(dict(f = f)) # cannot insert a numpy float, string or bool\n",
    "with pytest.raises(Exception):\n",
    "    c.insert_one(dict(ts = ts))  # cannot insert a pd.Series or DataFrame"
   ]
  },
  {
   "cell_type": "markdown",
   "id": "advanced-electronics",
   "metadata": {},
   "source": [
    "Further, unless we define the encoding, new classes do not work either\n"
   ]
  },
  {
   "cell_type": "code",
   "execution_count": 19,
   "id": "incomplete-volume",
   "metadata": {},
   "outputs": [],
   "source": [
    "class NewClass():\n",
    "    def __init__(self, n):\n",
    "        self.n = n\n",
    "    def __eq__(self, other):\n",
    "        return type(other) == type(self) and self.n == other.n\n",
    "n = NewClass(1)\n",
    "with pytest.raises(Exception):\n",
    "    c.insert_one(dict(n = n))"
   ]
  },
  {
   "cell_type": "markdown",
   "id": "professional-grounds",
   "metadata": {},
   "source": [
    "Luckily, the mongo_cursor t can insert all these happily:\n"
   ]
  },
  {
   "cell_type": "code",
   "execution_count": 20,
   "id": "featured-enclosure",
   "metadata": {},
   "outputs": [
    {
     "name": "stderr",
     "output_type": "stream",
     "text": [
      "2021-03-07 20:42:47,836 - pyg - INFO - INFO: deleting 1 documents based on M{}\n"
     ]
    },
    {
     "data": {
      "text/plain": [
       "{'_id': ObjectId('60453ac70e096da27d7d20c4'),\n",
       " 'a': array([0, 1, 2]),\n",
       " 'f': 32.0,\n",
       " 'ts': 2000-01-01    1.0\n",
       " 2000-01-02    2.0\n",
       " dtype: float64,\n",
       " 'n': <__main__.NewClass at 0x2d26c6439d0>}"
      ]
     },
     "execution_count": 20,
     "metadata": {},
     "output_type": "execute_result"
    }
   ],
   "source": [
    "t.drop()\n",
    "t.insert_one(Dict(a = a, f = f, ts = ts, n = n))\n",
    "assert len(t) == 1\n",
    "t[0] ## reading it back"
   ]
  },
  {
   "cell_type": "markdown",
   "id": "suitable-aside",
   "metadata": {},
   "source": [
    "### document reading\n",
    "What is nice is that when you read the document using the mongo_cursor, you get back the **object** you saved, not just the data. Is this magic? Not really... <br> We read the doc directly from the Collection:"
   ]
  },
  {
   "cell_type": "code",
   "execution_count": 21,
   "id": "incident-chemical",
   "metadata": {},
   "outputs": [],
   "source": [
    "raw_doc = c.find_one({})\n",
    "assert raw_doc['n'] == '{\"py/object\": \"__main__.NewClass\", \"n\": 1}'\n",
    "assert encode(n) == '{\"py/object\": \"__main__.NewClass\", \"n\": 1}'\n",
    "assert decode('{\"py/object\": \"__main__.NewClass\", \"n\": 1}') == n\n",
    "assert t.writer == encode\n",
    "assert t.reader == decode"
   ]
  },
  {
   "cell_type": "markdown",
   "id": "plastic-merchandise",
   "metadata": {},
   "source": [
    "* When writing, the mongo_cursor encodes the objects pre-saving it into Mongo, in this case as a simple dict\n",
    "* When reading, it uses decode to convert what it reads back into the object\n",
    "* This is done transparently though you can have full control via specifying writer/reader functions"
   ]
  },
  {
   "cell_type": "markdown",
   "id": "worse-cincinnati",
   "metadata": {},
   "source": [
    "This all works with the assumption that the person loading and the person saving share the library so objects can be instantiated on load. If construction method has changed and the object is not back-compatible, then user will receive the undecoded object and a warning message is logged.\n",
    "\n",
    "### document writing to files\n",
    "\n",
    "MongoDB is great for manipulating/searching dict keys/values. \n",
    "The actual dataframes in each doc, we may want to save in a file system because:"
   ]
  },
  {
   "cell_type": "markdown",
   "id": "appointed-likelihood",
   "metadata": {},
   "source": [
    "* DataFrames are stored as bytes in MongoDB anyway, so they are not searchable\n",
    "* MongoDB free version has limitations on size of document\n",
    "* For data licensing issues, data must not sit on servers but needs to be stored on local computer\n",
    "* Storing in files allows other non-python/non-MongoDB users easier access, allowing data to be detached from app. In particular, if you want to stream messages into the array/dataframe, doing it through Mongo is probably the wrong way about it. https://github.com/man-group/arctic attempts to do it but Mongo should probably just contain a reference to a file. You then have a listener such as 0MQ appending new messages into the file (perhaps via https://github.com/xor2k/npy-append-array/ or awswrangler). This will be (a) more performant, (b) require next to no code, and (c) new data will then magically show up in Mongo every time you read the document."
   ]
  },
  {
   "cell_type": "code",
   "execution_count": 22,
   "id": "concerned-student",
   "metadata": {},
   "outputs": [
    {
     "name": "stderr",
     "output_type": "stream",
     "text": [
      "2021-03-07 20:42:47,907 - pyg - INFO - INFO: deleting 1 documents based on M{}\n"
     ]
    },
    {
     "name": "stdout",
     "output_type": "stream",
     "text": [
      "_id:\n",
      "    60453ac90e096da27d7d20c6\n",
      "root:\n",
      "    c:/temp\n",
      "a:\n",
      "    {'_obj': '{\"py/function\": \"numpy.load\"}', 'file': 'c:/temp/a/0.npy'}\n",
      "    {'_obj': '{\"py/function\": \"numpy.load\"}', 'file': 'c:/temp/a/1.npy'}\n",
      "    {'_obj': '{\"py/function\": \"numpy.load\"}', 'file': 'c:/temp/a/2.npy'}\n",
      "ts:\n",
      "    one:\n",
      "        _obj:\n",
      "            {\"py/function\": \"pyg.base._parquet.pd_read_parquet\"}\n",
      "        path:\n",
      "            c:/temp/ts/one.parquet\n",
      "    two:\n",
      "        _obj:\n",
      "            {\"py/function\": \"pyg.base._parquet.pd_read_parquet\"}\n",
      "        path:\n",
      "            c:/temp/ts/two.parquet\n",
      "f:\n",
      "    32.0\n",
      "n:\n",
      "    {\"py/object\": \"__main__.NewClass\", \"n\": 1}\n"
     ]
    }
   ],
   "source": [
    "t2 = mongo_table('test', 'test', writer = 'parquet')\n",
    "t2.drop()\n",
    "doc = dict(root = 'c:/temp', a = [a,a,a], ts = dict(one = ts, two = ts), f = f, n = n)  ## can handle lists of arrays or dicts of stuff\n",
    "t2.insert_one(doc)\n",
    "encoded = c.find_one({})\n",
    "print(tree_repr(encoded))"
   ]
  },
  {
   "cell_type": "markdown",
   "id": "spanish-shock",
   "metadata": {},
   "source": [
    "You can see that starting at the root location, the document's numpy arrays and pandas have been saved to .npy and .parquet files"
   ]
  },
  {
   "cell_type": "code",
   "execution_count": 23,
   "id": "running-andrews",
   "metadata": {},
   "outputs": [
    {
     "name": "stdout",
     "output_type": "stream",
     "text": [
      "_id:\n",
      "    60453ac90e096da27d7d20c6\n",
      "root:\n",
      "    c:/temp\n",
      "a:\n",
      "    [array([0, 1, 2]), array([0, 1, 2]), array([0, 1, 2])]\n",
      "ts:\n",
      "    one:\n",
      "        index\n",
      "        2000-01-01    1.0\n",
      "        2000-01-02    2.0\n",
      "        dtype: float64\n",
      "    two:\n",
      "        index\n",
      "        2000-01-01    1.0\n",
      "        2000-01-02    2.0\n",
      "        dtype: float64\n",
      "f:\n",
      "    32.0\n",
      "n:\n",
      "    <__main__.NewClass object at 0x000002D26CAFEC10>\n"
     ]
    }
   ],
   "source": [
    "print(tree_repr(decode(encoded)))"
   ]
  },
  {
   "cell_type": "code",
   "execution_count": 24,
   "id": "overhead-cornwall",
   "metadata": {},
   "outputs": [
    {
     "data": {
      "text/plain": [
       "array([0, 1, 2])"
      ]
     },
     "execution_count": 24,
     "metadata": {},
     "output_type": "execute_result"
    }
   ],
   "source": [
    "np.load('c:/temp/a/2.npy') ## can load data directly"
   ]
  },
  {
   "cell_type": "code",
   "execution_count": 25,
   "id": "latest-estate",
   "metadata": {},
   "outputs": [
    {
     "data": {
      "text/plain": [
       "index\n",
       "2000-01-01    1.0\n",
       "2000-01-02    2.0\n",
       "dtype: float64"
      ]
     },
     "execution_count": 25,
     "metadata": {},
     "output_type": "execute_result"
    }
   ],
   "source": [
    "pd_read_parquet('c:/temp/ts/one.parquet')"
   ]
  },
  {
   "cell_type": "markdown",
   "id": "threaded-heather",
   "metadata": {},
   "source": [
    "### document access\n",
    "We start by pushing a 10x10 times table into t"
   ]
  },
  {
   "cell_type": "code",
   "execution_count": 26,
   "id": "collect-gamma",
   "metadata": {},
   "outputs": [
    {
     "name": "stderr",
     "output_type": "stream",
     "text": [
      "2021-03-07 20:42:49,637 - pyg - INFO - INFO: deleting 1 documents based on M{}\n"
     ]
    },
    {
     "data": {
      "text/plain": [
       "<class 'pyg.mongo._cursor.mongo_cursor'> for Collection(Database(MongoClient(host=['localhost:27017'], document_class=dict, tz_aware=False, connect=True), 'test'), 'test') \n",
       "M{} None\n",
       "documents count: 100 \n",
       "dict_keys(['_id', 'a', 'b', 'c', '_obj'])"
      ]
     },
     "execution_count": 26,
     "metadata": {},
     "output_type": "execute_result"
    }
   ],
   "source": [
    "t.drop()\n",
    "times_table = (dictable(a = range(10)) * dictable(b = range(10)))(c = lambda a, b: a*b)\n",
    "t.insert_many(times_table)"
   ]
  },
  {
   "cell_type": "markdown",
   "id": "vulnerable-banana",
   "metadata": {},
   "source": [
    "### filters\n",
    "We now examine how we drill down to the document(s) we want: "
   ]
  },
  {
   "cell_type": "code",
   "execution_count": 27,
   "id": "pretty-panel",
   "metadata": {},
   "outputs": [],
   "source": [
    "assert len(t.inc(a = 1)) == 10\n",
    "assert len(t.exc(a = 1)) == 90\n",
    "assert isinstance(t.inc(a = 1), mongo_cursor) ## it is chain-able\n",
    "assert len(t.find(q.a == 1).find(q.b == [1,2,3,4])) == 4"
   ]
  },
  {
   "cell_type": "markdown",
   "id": "sought-bargain",
   "metadata": {},
   "source": [
    "We can use the original collection too but not in a chain-like fashion:"
   ]
  },
  {
   "cell_type": "code",
   "execution_count": 28,
   "id": "cordless-ethiopia",
   "metadata": {},
   "outputs": [],
   "source": [
    "spec = q(a = 1, b = [1,2,3,4])\n",
    "assert c.count_documents(spec) == 4\n",
    "c.find(spec) # That is OK\n",
    "with pytest.raises(AttributeError):  # not OK, cannot chain queries\n",
    "    c.find(q(a=1)).find(q(b = [1,2,3,4]))"
   ]
  },
  {
   "cell_type": "markdown",
   "id": "painted-victoria",
   "metadata": {},
   "source": [
    "### iteration\n",
    "Just like a mongo.Cursor, c.find(spec), t is also iterable over the documents:"
   ]
  },
  {
   "cell_type": "code",
   "execution_count": 29,
   "id": "talented-companion",
   "metadata": {},
   "outputs": [
    {
     "data": {
      "text/plain": [
       "dictable[4 x 4]\n",
       "_id                     |a|b|c\n",
       "60453ac90e096da27d7d20d2|1|1|1\n",
       "60453ac90e096da27d7d20d3|1|2|2\n",
       "60453ac90e096da27d7d20d4|1|3|3\n",
       "60453ac90e096da27d7d20d5|1|4|4"
      ]
     },
     "execution_count": 29,
     "metadata": {},
     "output_type": "execute_result"
    }
   ],
   "source": [
    "sum([doc for doc in t.find(a = 1).find(b = [1,2,3,4])], dictable())"
   ]
  },
  {
   "cell_type": "code",
   "execution_count": 30,
   "id": "iraqi-consultation",
   "metadata": {},
   "outputs": [
    {
     "data": {
      "text/plain": [
       "dictable[4 x 4]\n",
       "_id                     |a|b|c\n",
       "60453ac90e096da27d7d20d2|1|1|1\n",
       "60453ac90e096da27d7d20d3|1|2|2\n",
       "60453ac90e096da27d7d20d4|1|3|3\n",
       "60453ac90e096da27d7d20d5|1|4|4"
      ]
     },
     "execution_count": 30,
     "metadata": {},
     "output_type": "execute_result"
    }
   ],
   "source": [
    "dictable(t.find(a = 1).find(b = [1,2,3,4])) ## or just put a cursor straight into a table"
   ]
  },
  {
   "cell_type": "code",
   "execution_count": 31,
   "id": "ranking-manhattan",
   "metadata": {},
   "outputs": [
    {
     "data": {
      "text/plain": [
       "dictable[4 x 4]\n",
       "_id                     |a|b|c\n",
       "60453ac90e096da27d7d20d2|1|1|1\n",
       "60453ac90e096da27d7d20d3|1|2|2\n",
       "60453ac90e096da27d7d20d4|1|3|3\n",
       "60453ac90e096da27d7d20d5|1|4|4"
      ]
     },
     "execution_count": 31,
     "metadata": {},
     "output_type": "execute_result"
    }
   ],
   "source": [
    "t.find(a = 1).find(b = [1,2,3,4])[::] ## or simple slicing"
   ]
  },
  {
   "cell_type": "markdown",
   "id": "accessory-living",
   "metadata": {},
   "source": [
    "### sorting"
   ]
  },
  {
   "cell_type": "code",
   "execution_count": 32,
   "id": "anonymous-insurance",
   "metadata": {},
   "outputs": [
    {
     "data": {
      "text/plain": [
       "dictable[100 x 4]\n",
       "_id                     |a|b|c \n",
       "60453ac90e096da27d7d20c7|0|0|0 \n",
       "60453ac90e096da27d7d20d1|1|0|0 \n",
       "60453ac90e096da27d7d20db|2|0|0 \n",
       "...100 rows...\n",
       "60453ac90e096da27d7d2129|9|8|72\n",
       "60453ac90e096da27d7d2120|8|9|72\n",
       "60453ac90e096da27d7d212a|9|9|81"
      ]
     },
     "execution_count": 32,
     "metadata": {},
     "output_type": "execute_result"
    }
   ],
   "source": [
    "t.sort('c', 'b')[::]"
   ]
  },
  {
   "cell_type": "markdown",
   "id": "systematic-confidence",
   "metadata": {},
   "source": [
    "### getitem of a specfic document"
   ]
  },
  {
   "cell_type": "code",
   "execution_count": 33,
   "id": "quiet-maine",
   "metadata": {},
   "outputs": [
    {
     "data": {
      "text/plain": [
       "{'_id': ObjectId('60453ac90e096da27d7d2115'), 'a': 7, 'b': 8, 'c': 56}"
      ]
     },
     "execution_count": 33,
     "metadata": {},
     "output_type": "execute_result"
    }
   ],
   "source": [
    "t[dict(a = 7, b = 8)]"
   ]
  },
  {
   "cell_type": "markdown",
   "id": "surprised-patient",
   "metadata": {},
   "source": [
    "### column access"
   ]
  },
  {
   "cell_type": "code",
   "execution_count": 34,
   "id": "smart-motivation",
   "metadata": {},
   "outputs": [
    {
     "data": {
      "text/plain": [
       "[0, 1, 2, 3, 4, 5, 6, 7, 8, 9]"
      ]
     },
     "execution_count": 34,
     "metadata": {},
     "output_type": "execute_result"
    }
   ],
   "source": [
    "t.b"
   ]
  },
  {
   "cell_type": "code",
   "execution_count": 35,
   "id": "spectacular-minutes",
   "metadata": {},
   "outputs": [],
   "source": [
    "assert t.b == t.distinct('b') == c.distinct('b')"
   ]
  },
  {
   "cell_type": "markdown",
   "id": "latest-shock",
   "metadata": {},
   "source": [
    "In MongoDB the cursor can have a 'projection' onto specific columns. In mongo_cursor this is simplified:"
   ]
  },
  {
   "cell_type": "code",
   "execution_count": 36,
   "id": "capable-wellington",
   "metadata": {},
   "outputs": [
    {
     "data": {
      "text/plain": [
       "dictable[4 x 3]\n",
       "_id                     |a|b\n",
       "60453ac90e096da27d7d2105|6|2\n",
       "60453ac90e096da27d7d20f2|4|3\n",
       "60453ac90e096da27d7d20e9|3|4\n",
       "60453ac90e096da27d7d20e1|2|6"
      ]
     },
     "execution_count": 36,
     "metadata": {},
     "output_type": "execute_result"
    }
   ],
   "source": [
    "t[['a', 'b']].find(c = 12)[::]"
   ]
  },
  {
   "cell_type": "markdown",
   "id": "moved-performer",
   "metadata": {},
   "source": [
    "### add/remove columns"
   ]
  },
  {
   "cell_type": "code",
   "execution_count": 37,
   "id": "female-prison",
   "metadata": {},
   "outputs": [
    {
     "data": {
      "text/plain": [
       "dictable[100 x 3]\n",
       "_id                     |a|b\n",
       "60453ac90e096da27d7d20c7|0|0\n",
       "60453ac90e096da27d7d20d1|1|0\n",
       "60453ac90e096da27d7d20db|2|0\n",
       "...100 rows...\n",
       "60453ac90e096da27d7d2116|7|9\n",
       "60453ac90e096da27d7d2120|8|9\n",
       "60453ac90e096da27d7d212a|9|9"
      ]
     },
     "execution_count": 37,
     "metadata": {},
     "output_type": "execute_result"
    }
   ],
   "source": [
    "del t['c']\n",
    "t[::]"
   ]
  },
  {
   "cell_type": "code",
   "execution_count": 38,
   "id": "south-utility",
   "metadata": {},
   "outputs": [
    {
     "data": {
      "text/plain": [
       "dictable[100 x 4]\n",
       "_id                     |a|b|c                     \n",
       "60453ac90e096da27d7d20c7|0|0|not very useful but...\n",
       "60453ac90e096da27d7d20d1|1|0|not very useful but...\n",
       "60453ac90e096da27d7d20db|2|0|not very useful but...\n",
       "...100 rows...\n",
       "60453ac90e096da27d7d2116|7|9|not very useful but...\n",
       "60453ac90e096da27d7d2120|8|9|not very useful but...\n",
       "60453ac90e096da27d7d212a|9|9|not very useful but..."
      ]
     },
     "execution_count": 38,
     "metadata": {},
     "output_type": "execute_result"
    }
   ],
   "source": [
    "t = t.set(c = 'not very useful but...')\n",
    "t[::]"
   ]
  },
  {
   "cell_type": "code",
   "execution_count": 39,
   "id": "stone-louis",
   "metadata": {},
   "outputs": [
    {
     "data": {
      "text/plain": [
       "dictable[100 x 4]\n",
       "_id                     |a|b|c \n",
       "60453ac90e096da27d7d20c7|0|0|0 \n",
       "60453ac90e096da27d7d20d1|1|0|0 \n",
       "60453ac90e096da27d7d20db|2|0|0 \n",
       "...100 rows...\n",
       "60453ac90e096da27d7d2129|9|8|72\n",
       "60453ac90e096da27d7d2120|8|9|72\n",
       "60453ac90e096da27d7d212a|9|9|81"
      ]
     },
     "execution_count": 39,
     "metadata": {},
     "output_type": "execute_result"
    }
   ],
   "source": [
    "t = t.set(c = lambda a, b: a * b) ### more useful\n",
    "t[::]"
   ]
  },
  {
   "cell_type": "markdown",
   "id": "specific-compact",
   "metadata": {},
   "source": [
    "### add/remove records"
   ]
  },
  {
   "cell_type": "code",
   "execution_count": 40,
   "id": "prepared-colleague",
   "metadata": {},
   "outputs": [
    {
     "name": "stderr",
     "output_type": "stream",
     "text": [
      "2021-03-07 20:42:51,028 - pyg - INFO - INFO: deleting 4 documents based on M{'c': {'$eq': 12}}\n"
     ]
    },
    {
     "data": {
      "text/plain": [
       "<class 'pyg.mongo._cursor.mongo_cursor'> for Collection(Database(MongoClient(host=['localhost:27017'], document_class=dict, tz_aware=False, connect=True), 'test'), 'test') \n",
       "M{} None\n",
       "documents count: 96 \n",
       "dict_keys(['_id', 'a', 'b', '_obj', 'c'])"
      ]
     },
     "execution_count": 40,
     "metadata": {},
     "output_type": "execute_result"
    }
   ],
   "source": [
    "t.inc(c = 12).drop()\n",
    "t"
   ]
  },
  {
   "cell_type": "code",
   "execution_count": 41,
   "id": "female-textbook",
   "metadata": {},
   "outputs": [
    {
     "data": {
      "text/plain": [
       "<class 'pyg.mongo._cursor.mongo_cursor'> for Collection(Database(MongoClient(host=['localhost:27017'], document_class=dict, tz_aware=False, connect=True), 'test'), 'test') \n",
       "M{} None\n",
       "documents count: 97 \n",
       "dict_keys(['_id', 'a', 'b', '_obj', 'c'])"
      ]
     },
     "execution_count": 41,
     "metadata": {},
     "output_type": "execute_result"
    }
   ],
   "source": [
    "t = t + dict(a = 2, b = 6, c = 12)\n",
    "t"
   ]
  },
  {
   "cell_type": "code",
   "execution_count": 42,
   "id": "closed-commonwealth",
   "metadata": {},
   "outputs": [
    {
     "name": "stderr",
     "output_type": "stream",
     "text": [
      "2021-03-07 20:42:51,073 - pyg - INFO - INFO: deleting 1 documents based on M{'c': {'$eq': 12}}\n"
     ]
    },
    {
     "data": {
      "text/plain": [
       "<class 'pyg.mongo._cursor.mongo_cursor'> for Collection(Database(MongoClient(host=['localhost:27017'], document_class=dict, tz_aware=False, connect=True), 'test'), 'test') \n",
       "M{'c': {'$eq': 12}} None\n",
       "documents count: 4 \n",
       "dict_keys(['_id', 'a', 'b', 'c', '_obj'])"
      ]
     },
     "execution_count": 42,
     "metadata": {},
     "output_type": "execute_result"
    }
   ],
   "source": [
    "t = t.inc(c = 12).drop() + times_table.inc(c = 12) ## adding four records at once\n",
    "t"
   ]
  },
  {
   "cell_type": "code",
   "execution_count": 43,
   "id": "built-sharp",
   "metadata": {},
   "outputs": [
    {
     "name": "stderr",
     "output_type": "stream",
     "text": [
      "2021-03-07 20:42:51,099 - pyg - INFO - INFO: deleting 4 documents based on M{'c': {'$eq': 12}}\n"
     ]
    },
    {
     "data": {
      "text/plain": [
       "dictable[4 x 4]\n",
       "_id                     |a|b|c \n",
       "60453acb0e096da27d7d2133|6|2|12\n",
       "60453acb0e096da27d7d2132|4|3|12\n",
       "60453acb0e096da27d7d2131|3|4|12\n",
       "60453acb0e096da27d7d2130|2|6|12"
      ]
     },
     "execution_count": 43,
     "metadata": {},
     "output_type": "execute_result"
    }
   ],
   "source": [
    "t = t.inc(c = 12).drop().insert_many(times_table.inc(c = 12))\n",
    "t[::]"
   ]
  },
  {
   "cell_type": "code",
   "execution_count": 44,
   "id": "romance-latest",
   "metadata": {},
   "outputs": [
    {
     "data": {
      "text/plain": [
       "<class 'pyg.mongo._cursor.mongo_cursor'> for Collection(Database(MongoClient(host=['localhost:27017'], document_class=dict, tz_aware=False, connect=True), 'test'), 'test') \n",
       "M{} None\n",
       "documents count: 100 \n",
       "dict_keys(['_id', 'a', 'b', '_obj', 'c'])"
      ]
     },
     "execution_count": 44,
     "metadata": {},
     "output_type": "execute_result"
    }
   ],
   "source": [
    "t = t.raw ## remove the filter c = 12\n",
    "t"
   ]
  },
  {
   "cell_type": "markdown",
   "id": "interpreted-logistics",
   "metadata": {},
   "source": [
    "## mongo_pk_table\n",
    "mongo_pk_table is a mongo_cursor implementing a table with primary keys. Suppose we want to have a table of people:"
   ]
  },
  {
   "cell_type": "code",
   "execution_count": 70,
   "id": "sunset-south",
   "metadata": {},
   "outputs": [
    {
     "name": "stderr",
     "output_type": "stream",
     "text": [
      "2021-03-07 21:04:34,232 - pyg - INFO - INFO: deleting 8 documents based on M{}\n"
     ]
    },
    {
     "data": {
      "text/plain": [
       "dictable[4 x 5]\n",
       "_id                     |_pk                |age|name   |surname\n",
       "60453fe20e096da27d7d2150|['name', 'surname']|1  |alan   |adams  \n",
       "60453fe20e096da27d7d2151|['name', 'surname']|2  |alan   |jones  \n",
       "60453fe20e096da27d7d2152|['name', 'surname']|3  |barbara|brown  \n",
       "60453fe20e096da27d7d2153|['name', 'surname']|4  |chris  |jones  "
      ]
     },
     "execution_count": 70,
     "metadata": {},
     "output_type": "execute_result"
    }
   ],
   "source": [
    "from pyg import *; import pymongo as pym; import pytest\n",
    "\n",
    "t = mongo_table(table = 'test', db = 'test')\n",
    "c = pym.MongoClient()['test']['test']\n",
    "pk = mongo_table(table = 'test', db = 'test', pk = ['name', 'surname'])\n",
    "\n",
    "t.drop()\n",
    "d = dictable(name = ['alan', 'alan', 'barbara', 'chris'], surname = ['adams', 'jones', 'brown', 'jones'], age = [1,2,3,4])\n",
    "pk.insert_many(d)\n",
    "pk[::]"
   ]
  },
  {
   "cell_type": "markdown",
   "id": "saving-asian",
   "metadata": {},
   "source": [
    "Now let us suppose a year has passed..."
   ]
  },
  {
   "cell_type": "code",
   "execution_count": 71,
   "id": "capable-bracket",
   "metadata": {},
   "outputs": [
    {
     "data": {
      "text/plain": [
       "dictable[4 x 5]\n",
       "_id                     |_pk                |age|name   |surname\n",
       "60453fe20e096da27d7d2150|['name', 'surname']|2  |alan   |adams  \n",
       "60453fe20e096da27d7d2151|['name', 'surname']|3  |alan   |jones  \n",
       "60453fe20e096da27d7d2152|['name', 'surname']|4  |barbara|brown  \n",
       "60453fe20e096da27d7d2153|['name', 'surname']|5  |chris  |jones  "
      ]
     },
     "execution_count": 71,
     "metadata": {},
     "output_type": "execute_result"
    }
   ],
   "source": [
    "pk.set(age = lambda age: age + 1)\n",
    "pk[::]"
   ]
  },
  {
   "cell_type": "markdown",
   "id": "green-wyoming",
   "metadata": {},
   "source": [
    "The pk-table actually maintains complete audit trail. Older records are not deleted, they just get '_deleted' parameter set for them."
   ]
  },
  {
   "cell_type": "code",
   "execution_count": 72,
   "id": "alien-business",
   "metadata": {},
   "outputs": [
    {
     "name": "stdout",
     "output_type": "stream",
     "text": [
      "_pk                |name   |_obj                              |age|_deleted                  |_id                     |surname\n",
      "['name', 'surname']|alan   |{\"py/type\": \"pyg.base._dict.Dict\"}|2  |None                      |60453fe20e096da27d7d2150|adams  \n",
      "['name', 'surname']|alan   |{\"py/type\": \"pyg.base._dict.Dict\"}|3  |None                      |60453fe20e096da27d7d2151|jones  \n",
      "['name', 'surname']|barbara|{\"py/type\": \"pyg.base._dict.Dict\"}|4  |None                      |60453fe20e096da27d7d2152|brown  \n",
      "['name', 'surname']|chris  |{\"py/type\": \"pyg.base._dict.Dict\"}|5  |None                      |60453fe20e096da27d7d2153|jones  \n",
      "['name', 'surname']|alan   |{\"py/type\": \"pyg.base._dict.Dict\"}|1  |2021-03-07 21:04:34.284000|60453fe20e096da27d7d2154|adams  \n",
      "['name', 'surname']|alan   |{\"py/type\": \"pyg.base._dict.Dict\"}|2  |2021-03-07 21:04:34.289000|60453fe20e096da27d7d2155|jones  \n",
      "['name', 'surname']|barbara|{\"py/type\": \"pyg.base._dict.Dict\"}|3  |2021-03-07 21:04:34.293000|60453fe20e096da27d7d2156|brown  \n",
      "['name', 'surname']|chris  |{\"py/type\": \"pyg.base._dict.Dict\"}|4  |2021-03-07 21:04:34.298000|60453fe20e096da27d7d2157|jones  \n"
     ]
    }
   ],
   "source": [
    "print(dictable(c))"
   ]
  },
  {
   "cell_type": "markdown",
   "id": "widespread-munich",
   "metadata": {},
   "source": [
    "You can see pk only looks at records where _deleted does not exist and _pk are set. "
   ]
  },
  {
   "cell_type": "code",
   "execution_count": 73,
   "id": "rental-regression",
   "metadata": {},
   "outputs": [
    {
     "data": {
      "text/plain": [
       "<class 'pyg.mongo._pk_cursor.mongo_pk_cursor'> for Collection(Database(MongoClient(host=['localhost:27017'], document_class=dict, tz_aware=False, connect=True), 'test'), 'test') \n",
       "M{'$and': [{\"_deleted\": {\"$exists\": false}}, {\"_pk\": {\"$eq\": [\"name\", \"surname\"]}}]} None\n",
       "documents count: 4 \n",
       "dict_keys(['_id', '_obj', '_pk', 'age', 'name', 'surname'])"
      ]
     },
     "execution_count": 73,
     "metadata": {},
     "output_type": "execute_result"
    }
   ],
   "source": [
    "pk"
   ]
  },
  {
   "cell_type": "markdown",
   "id": "moral-haven",
   "metadata": {},
   "source": [
    "There are obvioursly some small differences on how pk works but broadly, it is just like a normal mongo_cursor with an added filter to zoom onto the records that maintain the primary-key table:"
   ]
  },
  {
   "cell_type": "markdown",
   "id": "vocal-female",
   "metadata": {},
   "source": [
    "* you cannot insert docs without primary keys all present:\n",
    "* the drop() command does not actually delete the documents, they are simply 'marked' as deleted.\n",
    "* to get from a mongo_pk_cursor to mongo_cursor, simply go pk.raw"
   ]
  },
  {
   "cell_type": "code",
   "execution_count": 74,
   "id": "lightweight-tuesday",
   "metadata": {},
   "outputs": [],
   "source": [
    "with pytest.raises(KeyError):\n",
    "    pk.insert_one(dict(no_name_or_surname = 'James')) # cannot insert with no PK"
   ]
  },
  {
   "cell_type": "code",
   "execution_count": 75,
   "id": "removable-equivalent",
   "metadata": {},
   "outputs": [
    {
     "data": {
      "text/plain": [
       "0"
      ]
     },
     "execution_count": 75,
     "metadata": {},
     "output_type": "execute_result"
    }
   ],
   "source": [
    "pk.drop()\n",
    "len(pk)"
   ]
  },
  {
   "cell_type": "code",
   "execution_count": 76,
   "id": "functional-antenna",
   "metadata": {},
   "outputs": [
    {
     "data": {
      "text/plain": [
       "dictable[8 x 6]\n",
       "_deleted                  |_id                     |_pk                |age|name   |surname\n",
       "2021-03-07 21:04:34.355000|60453fe20e096da27d7d2150|['name', 'surname']|2  |alan   |adams  \n",
       "2021-03-07 21:04:34.355000|60453fe20e096da27d7d2151|['name', 'surname']|3  |alan   |jones  \n",
       "2021-03-07 21:04:34.355000|60453fe20e096da27d7d2152|['name', 'surname']|4  |barbara|brown  \n",
       "...8 rows...\n",
       "2021-03-07 21:04:34.289000|60453fe20e096da27d7d2155|['name', 'surname']|2  |alan   |jones  \n",
       "2021-03-07 21:04:34.293000|60453fe20e096da27d7d2156|['name', 'surname']|3  |barbara|brown  \n",
       "2021-03-07 21:04:34.298000|60453fe20e096da27d7d2157|['name', 'surname']|4  |chris  |jones  "
      ]
     },
     "execution_count": 76,
     "metadata": {},
     "output_type": "execute_result"
    }
   ],
   "source": [
    "t[::] ## the data is there, it is just marked as _deleted"
   ]
  },
  {
   "cell_type": "markdown",
   "id": "breathing-opera",
   "metadata": {},
   "source": [
    "## mongo_reader and mongo_pk_reader\n",
    "Because it is so easy to do stuff in MongoDB, we could easily cause damage to the date underlying. We therefore also introduced read-only versions for the mongo_cursor and pk_cursor:"
   ]
  },
  {
   "cell_type": "code",
   "execution_count": 77,
   "id": "satisfactory-sleeve",
   "metadata": {},
   "outputs": [
    {
     "data": {
      "text/plain": [
       "<class 'pyg.mongo._pk_reader.mongo_pk_reader'> for Collection(Database(MongoClient(host=['localhost:27017'], document_class=dict, tz_aware=False, connect=True), 'test'), 'test') \n",
       "M{'$and': [{\"_deleted\": {\"$exists\": false}}, {\"_pk\": {\"$eq\": [\"name\", \"surname\"]}}]} None\n",
       "documents count: 0"
      ]
     },
     "execution_count": 77,
     "metadata": {},
     "output_type": "execute_result"
    }
   ],
   "source": [
    "pkr = mongo_table(table = 'test', db = 'test', pk = ['name', 'surname'], mode = 'r')\n",
    "pkr"
   ]
  },
  {
   "cell_type": "code",
   "execution_count": 78,
   "id": "friendly-dream",
   "metadata": {},
   "outputs": [],
   "source": [
    "with pytest.raises(AttributeError):\n",
    "    pkr.drop()\n"
   ]
  },
  {
   "cell_type": "code",
   "execution_count": 80,
   "id": "increasing-sheep",
   "metadata": {},
   "outputs": [
    {
     "data": {
      "text/plain": [
       "dictable[8 x 6]\n",
       "_deleted                  |_id                     |_pk                |age|name   |surname\n",
       "2021-03-07 21:04:34.355000|60453fe20e096da27d7d2150|['name', 'surname']|2  |alan   |adams  \n",
       "2021-03-07 21:04:34.355000|60453fe20e096da27d7d2151|['name', 'surname']|3  |alan   |jones  \n",
       "2021-03-07 21:04:34.355000|60453fe20e096da27d7d2152|['name', 'surname']|4  |barbara|brown  \n",
       "...8 rows...\n",
       "2021-03-07 21:04:34.289000|60453fe20e096da27d7d2155|['name', 'surname']|2  |alan   |jones  \n",
       "2021-03-07 21:04:34.293000|60453fe20e096da27d7d2156|['name', 'surname']|3  |barbara|brown  \n",
       "2021-03-07 21:04:34.298000|60453fe20e096da27d7d2157|['name', 'surname']|4  |chris  |jones  "
      ]
     },
     "execution_count": 80,
     "metadata": {},
     "output_type": "execute_result"
    }
   ],
   "source": [
    "r  = mongo_table(table = 'test', db = 'test', mode = 'r')\n",
    "with pytest.raises(AttributeError):\n",
    "    r.drop()\n",
    "\n",
    "r[::]"
   ]
  },
  {
   "cell_type": "code",
   "execution_count": null,
   "id": "opened-layout",
   "metadata": {},
   "outputs": [],
   "source": []
  }
 ],
 "metadata": {
  "kernelspec": {
   "display_name": "Python 3",
   "language": "python",
   "name": "python3"
  },
  "language_info": {
   "codemirror_mode": {
    "name": "ipython",
    "version": 3
   },
   "file_extension": ".py",
   "mimetype": "text/x-python",
   "name": "python",
   "nbconvert_exporter": "python",
   "pygments_lexer": "ipython3",
   "version": "3.8.5"
  }
 },
 "nbformat": 4,
 "nbformat_minor": 5
}
