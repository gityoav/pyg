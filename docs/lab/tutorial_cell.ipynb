{
 "cells": [
  {
   "cell_type": "markdown",
   "id": "eligible-asthma",
   "metadata": {},
   "source": [
    "# pyg.base.cell\n",
    "cell is a dict that forms part of a calculation graph. Most usefully, db_cell is implemented to maintain persistency of the function output in MongoDB. \n",
    "Before we start, we will show a few examples of how a cell works. Then, we will build a toy example of trading stocks based on an exponentially weighted crossover. \n"
   ]
  },
  {
   "cell_type": "markdown",
   "id": "southwest-cedar",
   "metadata": {},
   "source": [
    "* We will start by creating the system using pyg.base.dictable and pyg.timeseries. \n",
    "* We then repeat the same code, this time modifying it slightly to save the data and calculation graph in MongoDB while running the calculation.\n",
    "* We conclude by discussing the two approaches"
   ]
  },
  {
   "cell_type": "markdown",
   "id": "aboriginal-authorization",
   "metadata": {},
   "source": [
    "## Cell 101"
   ]
  },
  {
   "cell_type": "code",
   "execution_count": 1,
   "id": "floppy-exchange",
   "metadata": {},
   "outputs": [
    {
     "data": {
      "text/plain": [
       "cell\n",
       "x:\n",
       "    2\n",
       "y:\n",
       "    cell\n",
       "    {'x': 1, 'y': 2, 'function': <function <lambda> at 0x0000027344DAB940>}\n",
       "function:\n",
       "    <function <lambda> at 0x0000027344DABC10>"
      ]
     },
     "execution_count": 1,
     "metadata": {},
     "output_type": "execute_result"
    }
   ],
   "source": [
    "from pyg import *\n",
    "a = cell(lambda x, y: x + y,  x = 1, y = 2)\n",
    "b = cell(lambda x, y: x * y,  x = 2, y = a)\n",
    "b"
   ]
  },
  {
   "cell_type": "code",
   "execution_count": 2,
   "id": "normal-hollywood",
   "metadata": {},
   "outputs": [
    {
     "data": {
      "text/plain": [
       "['x', 'y', 'function']"
      ]
     },
     "execution_count": 2,
     "metadata": {},
     "output_type": "execute_result"
    }
   ],
   "source": [
    "b.keys() ## b is a dict"
   ]
  },
  {
   "cell_type": "code",
   "execution_count": 3,
   "id": "afraid-occasion",
   "metadata": {},
   "outputs": [
    {
     "data": {
      "text/plain": [
       "['x', 'y']"
      ]
     },
     "execution_count": 3,
     "metadata": {},
     "output_type": "execute_result"
    }
   ],
   "source": [
    "b._args ## inputs"
   ]
  },
  {
   "cell_type": "code",
   "execution_count": 4,
   "id": "tribal-enzyme",
   "metadata": {},
   "outputs": [
    {
     "data": {
      "text/plain": [
       "['data']"
      ]
     },
     "execution_count": 4,
     "metadata": {},
     "output_type": "execute_result"
    }
   ],
   "source": [
    "b._output ## where the output will go once we calculate it"
   ]
  },
  {
   "cell_type": "code",
   "execution_count": 5,
   "id": "numeric-cyprus",
   "metadata": {},
   "outputs": [],
   "source": [
    "assert b.run() ## b has not calculated yet... please run it"
   ]
  },
  {
   "cell_type": "code",
   "execution_count": 6,
   "id": "personal-productivity",
   "metadata": {},
   "outputs": [
    {
     "name": "stderr",
     "output_type": "stream",
     "text": [
      "2021-11-21 13:49:16,381 - pyg - INFO - None\n",
      "2021-11-21 13:49:16,385 - pyg - INFO - None\n"
     ]
    },
    {
     "data": {
      "text/plain": [
       "cell\n",
       "x:\n",
       "    2\n",
       "y:\n",
       "    cell\n",
       "    x:\n",
       "        1\n",
       "    y:\n",
       "        2\n",
       "    function:\n",
       "        <function <lambda> at 0x0000027344DAB940>\n",
       "    data:\n",
       "        3\n",
       "    updated:\n",
       "        2021-11-21 13:49:16.387865\n",
       "function:\n",
       "    <function <lambda> at 0x0000027344DABC10>\n",
       "data:\n",
       "    6\n",
       "updated:\n",
       "    2021-11-21 13:49:16.387865"
      ]
     },
     "execution_count": 6,
     "metadata": {},
     "output_type": "execute_result"
    }
   ],
   "source": [
    "b() # calculated object note b().data"
   ]
  },
  {
   "cell_type": "code",
   "execution_count": 7,
   "id": "exceptional-packaging",
   "metadata": {},
   "outputs": [
    {
     "name": "stderr",
     "output_type": "stream",
     "text": [
      "2021-11-21 13:49:32,100 - pyg - INFO - None\n",
      "2021-11-21 13:49:32,108 - pyg - INFO - None\n"
     ]
    }
   ],
   "source": [
    "assert not b().run() ## b has calculated now... no need to run it"
   ]
  },
  {
   "cell_type": "code",
   "execution_count": 8,
   "id": "judicial-organ",
   "metadata": {},
   "outputs": [
    {
     "name": "stderr",
     "output_type": "stream",
     "text": [
      "2021-11-21 13:49:40,343 - pyg - INFO - None\n",
      "2021-11-21 13:49:40,348 - pyg - INFO - None\n"
     ]
    },
    {
     "data": {
      "text/plain": [
       "cell\n",
       "function:\n",
       "    <function <lambda> at 0x0000027349C161F0>\n",
       "x:\n",
       "    cell\n",
       "    x:\n",
       "        1\n",
       "    y:\n",
       "        2\n",
       "    function:\n",
       "        <function <lambda> at 0x0000027344DAB940>\n",
       "    data:\n",
       "        3\n",
       "    updated:\n",
       "        2021-11-21 13:49:40.353265\n",
       "y:\n",
       "    2\n",
       "data:\n",
       "    9\n",
       "updated:\n",
       "    2021-11-21 13:49:40.353265"
      ]
     },
     "execution_count": 8,
     "metadata": {},
     "output_type": "execute_result"
    }
   ],
   "source": [
    "cell(lambda x, y: x ** y)(x = a, y = 2) # you can define the cell and then call it with the values"
   ]
  },
  {
   "cell_type": "markdown",
   "id": "motivated-start",
   "metadata": {},
   "source": [
    "## Workflow without saving to the database"
   ]
  },
  {
   "cell_type": "code",
   "execution_count": 9,
   "id": "registered-projector",
   "metadata": {},
   "outputs": [
    {
     "data": {
      "text/plain": [
       "dictable[505 x 3]\n",
       "symbol|name                  |sector     \n",
       "MMM   |3M Company            |Industrials\n",
       "AOS   |A.O. Smith Corp       |Industrials\n",
       "ABT   |Abbott Laboratories   |Health Care\n",
       "...505 rows...\n",
       "ZBH   |Zimmer Biomet Holdings|Health Care\n",
       "ZION  |Zions Bancorp         |Financials \n",
       "ZTS   |Zoetis                |Health Care"
      ]
     },
     "execution_count": 9,
     "metadata": {},
     "output_type": "execute_result"
    }
   ],
   "source": [
    "from pyg import *; \n",
    "import yfinance as yf # see https://github.com/ranaroussi/yfinance\n",
    "constituents = dictable(read_csv('d:/dropbox/yoav/python/pyg/docs/constituents_csv.csv')).rename(lower) # downloaded from <https://datahub.io/core/s-and-p-500-companies#resource-constituents>\n",
    "constituents"
   ]
  },
  {
   "cell_type": "code",
   "execution_count": 10,
   "id": "863d6148-78d0-4180-be02-6c267c924952",
   "metadata": {},
   "outputs": [],
   "source": [
    "def download(symbol):\n",
    "    return yf.download(tickers = symbol)\n",
    "    "
   ]
  },
  {
   "cell_type": "code",
   "execution_count": 11,
   "id": "pending-fifty",
   "metadata": {},
   "outputs": [
    {
     "data": {
      "text/plain": [
       "dictable[26 x 3]\n",
       "name              |sector|symbol\n",
       "Apache Corporation|Energy|APA   \n",
       "Baker Hughes Co   |Energy|BKR   \n",
       "Cabot Oil & Gas   |Energy|COG   \n",
       "...26 rows...\n",
       "TechnipFMC        |Energy|FTI   \n",
       "Valero Energy     |Energy|VLO   \n",
       "Williams Companies|Energy|WMB   "
      ]
     },
     "execution_count": 11,
     "metadata": {},
     "output_type": "execute_result"
    }
   ],
   "source": [
    "stocks = constituents.inc(sector = 'Energy')\n",
    "stocks"
   ]
  },
  {
   "cell_type": "code",
   "execution_count": 12,
   "id": "unable-festival",
   "metadata": {},
   "outputs": [
    {
     "name": "stdout",
     "output_type": "stream",
     "text": [
      "[*********************100%***********************]  1 of 1 completed\n",
      "[*********************100%***********************]  1 of 1 completed\n",
      "[*********************100%***********************]  1 of 1 completed\n",
      "[*********************100%***********************]  1 of 1 completed\n",
      "[*********************100%***********************]  1 of 1 completed\n",
      "\n",
      "1 Failed download:\n",
      "- CXO: No data found, symbol may be delisted\n",
      "[*********************100%***********************]  1 of 1 completed\n",
      "[*********************100%***********************]  1 of 1 completed\n",
      "[*********************100%***********************]  1 of 1 completed\n",
      "[*********************100%***********************]  1 of 1 completed\n",
      "[*********************100%***********************]  1 of 1 completed\n",
      "[*********************100%***********************]  1 of 1 completed\n",
      "[*********************100%***********************]  1 of 1 completed\n",
      "[*********************100%***********************]  1 of 1 completed\n",
      "[*********************100%***********************]  1 of 1 completed\n",
      "[*********************100%***********************]  1 of 1 completed\n",
      "[*********************100%***********************]  1 of 1 completed\n",
      "[*********************100%***********************]  1 of 1 completed\n",
      "[*********************100%***********************]  1 of 1 completed\n",
      "\n",
      "1 Failed download:\n",
      "- NBL: No data found, symbol may be delisted\n",
      "[*********************100%***********************]  1 of 1 completed\n",
      "[*********************100%***********************]  1 of 1 completed\n",
      "[*********************100%***********************]  1 of 1 completed\n",
      "[*********************100%***********************]  1 of 1 completed\n",
      "[*********************100%***********************]  1 of 1 completed\n",
      "[*********************100%***********************]  1 of 1 completed\n",
      "[*********************100%***********************]  1 of 1 completed\n",
      "[*********************100%***********************]  1 of 1 completed\n"
     ]
    }
   ],
   "source": [
    "stocks = stocks(history = download) # download takes symbol as an input and symbol is a column in stocks, so this provides symbol to download and puts output in 'history' column"
   ]
  },
  {
   "cell_type": "code",
   "execution_count": 13,
   "id": "written-blocking",
   "metadata": {},
   "outputs": [],
   "source": [
    "stocks = stocks.inc(lambda history: len(history)>0)"
   ]
  },
  {
   "cell_type": "code",
   "execution_count": 14,
   "id": "formal-institution",
   "metadata": {},
   "outputs": [],
   "source": [
    "stocks = stocks(adj = lambda history: getitem(value = history, key = 'Adj Close'))"
   ]
  },
  {
   "cell_type": "code",
   "execution_count": 15,
   "id": "respective-documentation",
   "metadata": {},
   "outputs": [],
   "source": [
    "stocks = stocks(rtn = lambda adj: diff(a = adj))"
   ]
  },
  {
   "cell_type": "code",
   "execution_count": 16,
   "id": "south-kitty",
   "metadata": {},
   "outputs": [],
   "source": [
    "stocks = stocks(vol = lambda rtn: ewmstd(a = rtn, n = 30))"
   ]
  },
  {
   "cell_type": "code",
   "execution_count": 17,
   "id": "duplicate-exchange",
   "metadata": {},
   "outputs": [],
   "source": [
    "_data = 'data'\n",
    "def crossover_(a, fast, slow, vol, instate = None):\n",
    "    state = Dict(fast = {}, slow = {}, vol = {}) if instate is None else instate\n",
    "    fast_ewma_ = ewma_(a, fast, instate = state.fast)\n",
    "    slow_ewma_ = ewma_(a, slow, instate = state.slow)    \n",
    "    raw_signal = fast_ewma_.data - slow_ewma_.data\n",
    "    signal_rms = ewmrms_(raw_signal, vol, instate = state.vol)\n",
    "    normalized = raw_signal/v2na(signal_rms.data)\n",
    "    return Dict(data = normalized, state = Dict(fast = fast_ewma_.state, slow = slow_ewma_.state, vol = signal_rms.state))\n",
    "\n",
    "crossover_.output = ['data', 'state']\n",
    "\n",
    "def crossover(a, fast, slow, vol, state = None):\n",
    "    return crossover_(a, fast, slow, vol, instate = state)"
   ]
  },
  {
   "cell_type": "markdown",
   "id": "korean-settlement",
   "metadata": {},
   "source": [
    "### some more functions to calculate the profits & loss as well as the signal/noise ratio"
   ]
  },
  {
   "cell_type": "code",
   "execution_count": 18,
   "id": "second-factor",
   "metadata": {},
   "outputs": [],
   "source": [
    "def signal_pnl(signal, rtn, vol):\n",
    "    return shift(signal) * (rtn/vol)\n",
    "\n",
    "def information_ratio(pnl):\n",
    "    return 16 * ts_mean(pnl) / ts_std(pnl)"
   ]
  },
  {
   "cell_type": "code",
   "execution_count": 19,
   "id": "separate-green",
   "metadata": {},
   "outputs": [],
   "source": [
    "forecasts = stocks * dictable(fast = [2,4,8], slow = [6,12,24], forecast = ['fast', 'medium', 'slow'])"
   ]
  },
  {
   "cell_type": "code",
   "execution_count": 20,
   "id": "average-jewel",
   "metadata": {},
   "outputs": [],
   "source": [
    "forecasts = forecasts(signal = lambda rtn, fast, slow: crossover_(rtn, fast = fast, slow = slow, vol = 30).data)"
   ]
  },
  {
   "cell_type": "code",
   "execution_count": 21,
   "id": "split-alexandria",
   "metadata": {},
   "outputs": [],
   "source": [
    "forecasts = forecasts(pnl = lambda signal, rtn, vol: signal_pnl(signal = signal, rtn = rtn, vol = vol))"
   ]
  },
  {
   "cell_type": "code",
   "execution_count": 22,
   "id": "complex-characterization",
   "metadata": {},
   "outputs": [],
   "source": [
    "forecasts = forecasts(ir = lambda pnl: information_ratio(pnl = pnl))"
   ]
  },
  {
   "cell_type": "code",
   "execution_count": 23,
   "id": "little-typing",
   "metadata": {},
   "outputs": [
    {
     "name": "stdout",
     "output_type": "stream",
     "text": [
      "symbol|fast |medium|slow \n",
      "APA   |0.13 |-0.03 |-0.09\n",
      "BKR   |0.06 |-0.09 |-0.11\n",
      "COG   |0.21 |0.13  |-0.01\n",
      "COP   |-0.15|-0.16 |-0.16\n",
      "CVX   |0.45 |0.29  |0.10 \n",
      "DVN   |0.13 |0.13  |0.15 \n",
      "EOG   |0.14 |0.04  |-0.02\n",
      "FANG  |-0.11|-0.11 |-0.18\n",
      "FTI   |-0.20|-0.37 |-0.34\n",
      "HAL   |0.72 |0.47  |0.29 \n",
      "HES   |0.14 |0.02  |0.00 \n",
      "HFC   |0.84 |0.78  |0.69 \n",
      "KMI   |0.38 |0.09  |0.03 \n",
      "MPC   |0.16 |0.42  |0.70 \n",
      "MRO   |0.22 |0.14  |0.13 \n",
      "NOV   |0.09 |-0.04 |-0.03\n",
      "OKE   |-0.25|-0.18 |-0.09\n",
      "OXY   |-0.25|-0.30 |-0.23\n",
      "PSX   |0.06 |0.20  |0.49 \n",
      "PXD   |0.22 |0.17  |0.23 \n",
      "SLB   |-0.07|-0.23 |-0.31\n",
      "VLO   |0.29 |0.29  |0.42 \n",
      "WMB   |0.16 |-0.07 |-0.20\n",
      "XOM   |-0.04|-0.28 |-0.43\n"
     ]
    }
   ],
   "source": [
    "print(forecasts.pivot('symbol', 'forecast', 'ir', [last, f12]))"
   ]
  },
  {
   "cell_type": "markdown",
   "id": "mobile-labor",
   "metadata": {},
   "source": [
    "## Workflow while saving to MongoDB"
   ]
  },
  {
   "cell_type": "markdown",
   "id": "loved-light",
   "metadata": {},
   "source": [
    "### Table creation\n",
    "We create three tables dependending on the primary keys we will be using. "
   ]
  },
  {
   "cell_type": "code",
   "execution_count": 19,
   "id": "italian-mauritius",
   "metadata": {},
   "outputs": [],
   "source": [
    "idb = partial(mongo_table, db = 'demo', table = 'items', pk = 'item')\n",
    "sdb = partial(mongo_table, db = 'demo', table = 'stock', pk = ['item', 'symbol'])\n",
    "fdb = partial(mongo_table, db = 'demo', table = 'forecast', pk = ['item', 'symbol', 'forecast'])"
   ]
  },
  {
   "cell_type": "code",
   "execution_count": 20,
   "id": "ff67bc05-1c62-497c-a52c-8c1073d5a456",
   "metadata": {},
   "outputs": [
    {
     "name": "stderr",
     "output_type": "stream",
     "text": [
      "2021-10-28 17:42:28,435 - pyg - INFO - INFO: deleting 18 documents based on M{}\n",
      "2021-10-28 17:42:28,460 - pyg - INFO - INFO: deleting 3946 documents based on M{}\n"
     ]
    },
    {
     "data": {
      "text/plain": [
       "<bound method mongo_cursor.delete_many of <class 'pyg.mongo._cursor.mongo_cursor'> for Collection(Database(MongoClient(host=['localhost:27017'], document_class=dict, tz_aware=False, connect=True), 'demo'), 'forecast') \n",
       "M{} None\n",
       "documents count: 1516 \n",
       "dict_keys(['_id', 'updated', '_period', 'db', 'output', 'a', 'fast', 'slow', 'vol', 'symbol', 'forecast', 'item', 'data', 'function', '_obj', '_pk'])>"
      ]
     },
     "execution_count": 20,
     "metadata": {},
     "output_type": "execute_result"
    }
   ],
   "source": [
    "idb().raw.drop(); sdb().raw.drop(); fdb().raw.drop # we first frop all existing data"
   ]
  },
  {
   "cell_type": "code",
   "execution_count": 21,
   "id": "neutral-figure",
   "metadata": {},
   "outputs": [
    {
     "data": {
      "text/plain": [
       "ObjectId('617ad2f83e25e90135406a4b')"
      ]
     },
     "execution_count": 21,
     "metadata": {},
     "output_type": "execute_result"
    }
   ],
   "source": [
    "idb().insert_one(db_cell(item = 'constituents', data = constituents))"
   ]
  },
  {
   "cell_type": "code",
   "execution_count": 22,
   "id": "84f7b381-05ff-46e1-93de-d3a33f0c2865",
   "metadata": {},
   "outputs": [
    {
     "data": {
      "text/plain": [
       "dictable[505 x 3]\n",
       "symbol|name                  |sector     \n",
       "MMM   |3M Company            |Industrials\n",
       "AOS   |A.O. Smith Corp       |Industrials\n",
       "ABT   |Abbott Laboratories   |Health Care\n",
       "...505 rows...\n",
       "ZBH   |Zimmer Biomet Holdings|Health Care\n",
       "ZION  |Zions Bancorp         |Financials \n",
       "ZTS   |Zoetis                |Health Care"
      ]
     },
     "execution_count": 22,
     "metadata": {},
     "output_type": "execute_result"
    }
   ],
   "source": [
    "get_data('items','demo', item = 'constituents')"
   ]
  },
  {
   "cell_type": "markdown",
   "id": "willing-tractor",
   "metadata": {},
   "source": [
    "### Any code differences?\n",
    "Most of the code remains the same as above, except:"
   ]
  },
  {
   "cell_type": "markdown",
   "id": "macro-cooperative",
   "metadata": {},
   "source": [
    "* We wrap it inside a periodic_cell so it is calculated daily\n",
    "* We add reference to where we want to store it in MongoDB by specifying the db as well as the primary keys of that table\n",
    "* To run the function, we need to call the cell. This: loads the cell from the database (if found), checking if it even needs running and if so, runs it."
   ]
  },
  {
   "cell_type": "code",
   "execution_count": 23,
   "id": "nominated-printing",
   "metadata": {},
   "outputs": [
    {
     "name": "stderr",
     "output_type": "stream",
     "text": [
      "2021-10-28 17:42:59,748 - pyg - INFO - get_cell(url = 'localhost:27017', db = 'demo', table = 'stock', item = 'history', symbol = 'APA')()\n"
     ]
    },
    {
     "name": "stdout",
     "output_type": "stream",
     "text": [
      "[*********************100%***********************]  1 of 1 completed\n"
     ]
    },
    {
     "name": "stderr",
     "output_type": "stream",
     "text": [
      "2021-10-28 17:43:00,685 - pyg - INFO - get_cell(url = 'localhost:27017', db = 'demo', table = 'stock', item = 'history', symbol = 'BKR')()\n"
     ]
    },
    {
     "name": "stdout",
     "output_type": "stream",
     "text": [
      "[*********************100%***********************]  1 of 1 completed"
     ]
    },
    {
     "name": "stderr",
     "output_type": "stream",
     "text": [
      "2021-10-28 17:43:01,245 - pyg - INFO - get_cell(url = 'localhost:27017', db = 'demo', table = 'stock', item = 'history', symbol = 'COG')()\n"
     ]
    },
    {
     "name": "stdout",
     "output_type": "stream",
     "text": [
      "\n",
      "[*********************100%***********************]  1 of 1 completed"
     ]
    },
    {
     "name": "stderr",
     "output_type": "stream",
     "text": [
      "2021-10-28 17:43:01,889 - pyg - INFO - get_cell(url = 'localhost:27017', db = 'demo', table = 'stock', item = 'history', symbol = 'CVX')()\n"
     ]
    },
    {
     "name": "stdout",
     "output_type": "stream",
     "text": [
      "\n",
      "[*********************100%***********************]  1 of 1 completed"
     ]
    },
    {
     "name": "stderr",
     "output_type": "stream",
     "text": [
      "2021-10-28 17:43:02,578 - pyg - INFO - get_cell(url = 'localhost:27017', db = 'demo', table = 'stock', item = 'history', symbol = 'COP')()\n"
     ]
    },
    {
     "name": "stdout",
     "output_type": "stream",
     "text": [
      "\n",
      "[*********************100%***********************]  1 of 1 completed"
     ]
    },
    {
     "name": "stderr",
     "output_type": "stream",
     "text": [
      "2021-10-28 17:43:03,132 - pyg - INFO - get_cell(url = 'localhost:27017', db = 'demo', table = 'stock', item = 'history', symbol = 'DVN')()\n"
     ]
    },
    {
     "name": "stdout",
     "output_type": "stream",
     "text": [
      "\n",
      "[*********************100%***********************]  1 of 1 completed"
     ]
    },
    {
     "name": "stderr",
     "output_type": "stream",
     "text": [
      "2021-10-28 17:43:03,638 - pyg - INFO - get_cell(url = 'localhost:27017', db = 'demo', table = 'stock', item = 'history', symbol = 'FANG')()\n"
     ]
    },
    {
     "name": "stdout",
     "output_type": "stream",
     "text": [
      "\n",
      "[*********************100%***********************]  1 of 1 completed"
     ]
    },
    {
     "name": "stderr",
     "output_type": "stream",
     "text": [
      "2021-10-28 17:43:03,997 - pyg - INFO - get_cell(url = 'localhost:27017', db = 'demo', table = 'stock', item = 'history', symbol = 'EOG')()\n"
     ]
    },
    {
     "name": "stdout",
     "output_type": "stream",
     "text": [
      "\n",
      "[*********************100%***********************]  1 of 1 completed"
     ]
    },
    {
     "name": "stderr",
     "output_type": "stream",
     "text": [
      "2021-10-28 17:43:04,449 - pyg - INFO - get_cell(url = 'localhost:27017', db = 'demo', table = 'stock', item = 'history', symbol = 'XOM')()\n"
     ]
    },
    {
     "name": "stdout",
     "output_type": "stream",
     "text": [
      "\n",
      "[*********************100%***********************]  1 of 1 completed"
     ]
    },
    {
     "name": "stderr",
     "output_type": "stream",
     "text": [
      "2021-10-28 17:43:05,095 - pyg - INFO - get_cell(url = 'localhost:27017', db = 'demo', table = 'stock', item = 'history', symbol = 'HAL')()\n"
     ]
    },
    {
     "name": "stdout",
     "output_type": "stream",
     "text": [
      "\n",
      "[*********************100%***********************]  1 of 1 completed"
     ]
    },
    {
     "name": "stderr",
     "output_type": "stream",
     "text": [
      "2021-10-28 17:43:05,687 - pyg - INFO - get_cell(url = 'localhost:27017', db = 'demo', table = 'stock', item = 'history', symbol = 'HES')()\n"
     ]
    },
    {
     "name": "stdout",
     "output_type": "stream",
     "text": [
      "\n",
      "[*********************100%***********************]  1 of 1 completed"
     ]
    },
    {
     "name": "stderr",
     "output_type": "stream",
     "text": [
      "2021-10-28 17:43:06,205 - pyg - INFO - get_cell(url = 'localhost:27017', db = 'demo', table = 'stock', item = 'history', symbol = 'HFC')()\n"
     ]
    },
    {
     "name": "stdout",
     "output_type": "stream",
     "text": [
      "\n",
      "[*********************100%***********************]  1 of 1 completed"
     ]
    },
    {
     "name": "stderr",
     "output_type": "stream",
     "text": [
      "2021-10-28 17:43:06,678 - pyg - INFO - get_cell(url = 'localhost:27017', db = 'demo', table = 'stock', item = 'history', symbol = 'KMI')()\n"
     ]
    },
    {
     "name": "stdout",
     "output_type": "stream",
     "text": [
      "\n",
      "[*********************100%***********************]  1 of 1 completed"
     ]
    },
    {
     "name": "stderr",
     "output_type": "stream",
     "text": [
      "2021-10-28 17:43:07,042 - pyg - INFO - get_cell(url = 'localhost:27017', db = 'demo', table = 'stock', item = 'history', symbol = 'MRO')()\n"
     ]
    },
    {
     "name": "stdout",
     "output_type": "stream",
     "text": [
      "\n",
      "[*********************100%***********************]  1 of 1 completed"
     ]
    },
    {
     "name": "stderr",
     "output_type": "stream",
     "text": [
      "2021-10-28 17:43:07,684 - pyg - INFO - get_cell(url = 'localhost:27017', db = 'demo', table = 'stock', item = 'history', symbol = 'MPC')()\n"
     ]
    },
    {
     "name": "stdout",
     "output_type": "stream",
     "text": [
      "\n",
      "[*********************100%***********************]  1 of 1 completed"
     ]
    },
    {
     "name": "stderr",
     "output_type": "stream",
     "text": [
      "2021-10-28 17:43:08,010 - pyg - INFO - get_cell(url = 'localhost:27017', db = 'demo', table = 'stock', item = 'history', symbol = 'NOV')()\n"
     ]
    },
    {
     "name": "stdout",
     "output_type": "stream",
     "text": [
      "\n",
      "[*********************100%***********************]  1 of 1 completed"
     ]
    },
    {
     "name": "stderr",
     "output_type": "stream",
     "text": [
      "2021-10-28 17:43:08,368 - pyg - INFO - get_cell(url = 'localhost:27017', db = 'demo', table = 'stock', item = 'history', symbol = 'OXY')()\n"
     ]
    },
    {
     "name": "stdout",
     "output_type": "stream",
     "text": [
      "\n",
      "[*********************100%***********************]  1 of 1 completed"
     ]
    },
    {
     "name": "stderr",
     "output_type": "stream",
     "text": [
      "2021-10-28 17:43:08,886 - pyg - INFO - get_cell(url = 'localhost:27017', db = 'demo', table = 'stock', item = 'history', symbol = 'OKE')()\n"
     ]
    },
    {
     "name": "stdout",
     "output_type": "stream",
     "text": [
      "\n",
      "[*********************100%***********************]  1 of 1 completed"
     ]
    },
    {
     "name": "stderr",
     "output_type": "stream",
     "text": [
      "2021-10-28 17:43:09,372 - pyg - INFO - get_cell(url = 'localhost:27017', db = 'demo', table = 'stock', item = 'history', symbol = 'PSX')()\n"
     ]
    },
    {
     "name": "stdout",
     "output_type": "stream",
     "text": [
      "\n",
      "[*********************100%***********************]  1 of 1 completed"
     ]
    },
    {
     "name": "stderr",
     "output_type": "stream",
     "text": [
      "2021-10-28 17:43:09,658 - pyg - INFO - get_cell(url = 'localhost:27017', db = 'demo', table = 'stock', item = 'history', symbol = 'PXD')()\n"
     ]
    },
    {
     "name": "stdout",
     "output_type": "stream",
     "text": [
      "\n",
      "[*********************100%***********************]  1 of 1 completed"
     ]
    },
    {
     "name": "stderr",
     "output_type": "stream",
     "text": [
      "2021-10-28 17:43:10,081 - pyg - INFO - get_cell(url = 'localhost:27017', db = 'demo', table = 'stock', item = 'history', symbol = 'SLB')()\n"
     ]
    },
    {
     "name": "stdout",
     "output_type": "stream",
     "text": [
      "\n",
      "[*********************100%***********************]  1 of 1 completed"
     ]
    },
    {
     "name": "stderr",
     "output_type": "stream",
     "text": [
      "2021-10-28 17:43:10,645 - pyg - INFO - get_cell(url = 'localhost:27017', db = 'demo', table = 'stock', item = 'history', symbol = 'FTI')()\n"
     ]
    },
    {
     "name": "stdout",
     "output_type": "stream",
     "text": [
      "\n",
      "[*********************100%***********************]  1 of 1 completed"
     ]
    },
    {
     "name": "stderr",
     "output_type": "stream",
     "text": [
      "2021-10-28 17:43:11,010 - pyg - INFO - get_cell(url = 'localhost:27017', db = 'demo', table = 'stock', item = 'history', symbol = 'VLO')()\n"
     ]
    },
    {
     "name": "stdout",
     "output_type": "stream",
     "text": [
      "\n",
      "[*********************100%***********************]  1 of 1 completed"
     ]
    },
    {
     "name": "stderr",
     "output_type": "stream",
     "text": [
      "2021-10-28 17:43:11,566 - pyg - INFO - get_cell(url = 'localhost:27017', db = 'demo', table = 'stock', item = 'history', symbol = 'WMB')()\n"
     ]
    },
    {
     "name": "stdout",
     "output_type": "stream",
     "text": [
      "\n",
      "[*********************100%***********************]  1 of 1 completed\n"
     ]
    }
   ],
   "source": [
    "stocks = stocks(history = lambda symbol: periodic_cell(download, symbol = symbol,           # these are the inputs for the function\n",
    "                                            db = sdb, item = 'history')())                                # these define where the data goes to. Note that symbol is in both!"
   ]
  },
  {
   "cell_type": "code",
   "execution_count": 25,
   "id": "48741b73-b2db-40fc-8cce-89d20a59d454",
   "metadata": {},
   "outputs": [
    {
     "data": {
      "text/plain": [
       "periodic_cell\n",
       "updated:\n",
       "    2021-10-28 17:43:00.412933\n",
       "period:\n",
       "    1b\n",
       "db:\n",
       "    functools.partial(<function mongo_table at 0x00000184D2AEC9D0>, db='demo', table='stock', pk=['item', 'symbol'])\n",
       "symbol:\n",
       "    APA\n",
       "item:\n",
       "    history\n",
       "function:\n",
       "    <function download at 0x00000184D50575E0>\n",
       "data:\n",
       "                     Open       High        Low      Close  Adj Close    Volume\n",
       "    Date                                                                       \n",
       "    1979-05-15   3.559404   3.607504   3.511304   3.559404   1.989832     22349\n",
       "    1979-05-16   3.583454   3.823954   3.583454   3.799904   2.124280     66008\n",
       "    1979-05-17   3.799904   3.848004   3.799904   3.848004   2.151171     57692\n",
       "    1979-05-18   3.848004   3.992304   3.848004   3.968254   2.218394    119023\n",
       "    1979-05-21   3.968254   4.064454   3.920154   4.040404   2.258728    106549\n",
       "    ...               ...        ...        ...        ...        ...       ...\n",
       "    2021-10-22  27.200001  27.850000  27.080000  27.680000  27.680000  10646300\n",
       "    2021-10-25  28.280001  28.780001  27.920000  28.219999  28.219999   9091200\n",
       "    2021-10-26  28.680000  28.680000  28.020000  28.150000  28.150000   8633700\n",
       "    2021-10-27  27.500000  28.120001  26.740000  26.900000  26.900000  11501800\n",
       "    2021-10-28  26.850000  27.170000  26.440001  26.480000  26.480000   3554653\n",
       "    \n",
       "    [10708 rows x 6 columns]\n",
       "_id:\n",
       "    617ad3143e25e90135406a54"
      ]
     },
     "execution_count": 25,
     "metadata": {},
     "output_type": "execute_result"
    }
   ],
   "source": [
    "stocks[0].history"
   ]
  },
  {
   "cell_type": "markdown",
   "id": "artificial-twenty",
   "metadata": {},
   "source": [
    "### Accessing the data in MongoDB\n",
    "The data is now in the database and can be accessed:"
   ]
  },
  {
   "cell_type": "code",
   "execution_count": 27,
   "id": "positive-being",
   "metadata": {},
   "outputs": [
    {
     "data": {
      "text/html": [
       "<div>\n",
       "<style scoped>\n",
       "    .dataframe tbody tr th:only-of-type {\n",
       "        vertical-align: middle;\n",
       "    }\n",
       "\n",
       "    .dataframe tbody tr th {\n",
       "        vertical-align: top;\n",
       "    }\n",
       "\n",
       "    .dataframe thead th {\n",
       "        text-align: right;\n",
       "    }\n",
       "</style>\n",
       "<table border=\"1\" class=\"dataframe\">\n",
       "  <thead>\n",
       "    <tr style=\"text-align: right;\">\n",
       "      <th></th>\n",
       "      <th>Open</th>\n",
       "      <th>High</th>\n",
       "      <th>Low</th>\n",
       "      <th>Close</th>\n",
       "      <th>Adj Close</th>\n",
       "      <th>Volume</th>\n",
       "    </tr>\n",
       "    <tr>\n",
       "      <th>Date</th>\n",
       "      <th></th>\n",
       "      <th></th>\n",
       "      <th></th>\n",
       "      <th></th>\n",
       "      <th></th>\n",
       "      <th></th>\n",
       "    </tr>\n",
       "  </thead>\n",
       "  <tbody>\n",
       "    <tr>\n",
       "      <th>1979-05-15</th>\n",
       "      <td>3.559404</td>\n",
       "      <td>3.607504</td>\n",
       "      <td>3.511304</td>\n",
       "      <td>3.559404</td>\n",
       "      <td>1.989832</td>\n",
       "      <td>22349</td>\n",
       "    </tr>\n",
       "    <tr>\n",
       "      <th>1979-05-16</th>\n",
       "      <td>3.583454</td>\n",
       "      <td>3.823954</td>\n",
       "      <td>3.583454</td>\n",
       "      <td>3.799904</td>\n",
       "      <td>2.124280</td>\n",
       "      <td>66008</td>\n",
       "    </tr>\n",
       "    <tr>\n",
       "      <th>1979-05-17</th>\n",
       "      <td>3.799904</td>\n",
       "      <td>3.848004</td>\n",
       "      <td>3.799904</td>\n",
       "      <td>3.848004</td>\n",
       "      <td>2.151171</td>\n",
       "      <td>57692</td>\n",
       "    </tr>\n",
       "    <tr>\n",
       "      <th>1979-05-18</th>\n",
       "      <td>3.848004</td>\n",
       "      <td>3.992304</td>\n",
       "      <td>3.848004</td>\n",
       "      <td>3.968254</td>\n",
       "      <td>2.218394</td>\n",
       "      <td>119023</td>\n",
       "    </tr>\n",
       "    <tr>\n",
       "      <th>1979-05-21</th>\n",
       "      <td>3.968254</td>\n",
       "      <td>4.064454</td>\n",
       "      <td>3.920154</td>\n",
       "      <td>4.040404</td>\n",
       "      <td>2.258728</td>\n",
       "      <td>106549</td>\n",
       "    </tr>\n",
       "    <tr>\n",
       "      <th>...</th>\n",
       "      <td>...</td>\n",
       "      <td>...</td>\n",
       "      <td>...</td>\n",
       "      <td>...</td>\n",
       "      <td>...</td>\n",
       "      <td>...</td>\n",
       "    </tr>\n",
       "    <tr>\n",
       "      <th>2021-10-22</th>\n",
       "      <td>27.200001</td>\n",
       "      <td>27.850000</td>\n",
       "      <td>27.080000</td>\n",
       "      <td>27.680000</td>\n",
       "      <td>27.680000</td>\n",
       "      <td>10646300</td>\n",
       "    </tr>\n",
       "    <tr>\n",
       "      <th>2021-10-25</th>\n",
       "      <td>28.280001</td>\n",
       "      <td>28.780001</td>\n",
       "      <td>27.920000</td>\n",
       "      <td>28.219999</td>\n",
       "      <td>28.219999</td>\n",
       "      <td>9091200</td>\n",
       "    </tr>\n",
       "    <tr>\n",
       "      <th>2021-10-26</th>\n",
       "      <td>28.680000</td>\n",
       "      <td>28.680000</td>\n",
       "      <td>28.020000</td>\n",
       "      <td>28.150000</td>\n",
       "      <td>28.150000</td>\n",
       "      <td>8633700</td>\n",
       "    </tr>\n",
       "    <tr>\n",
       "      <th>2021-10-27</th>\n",
       "      <td>27.500000</td>\n",
       "      <td>28.120001</td>\n",
       "      <td>26.740000</td>\n",
       "      <td>26.900000</td>\n",
       "      <td>26.900000</td>\n",
       "      <td>11501800</td>\n",
       "    </tr>\n",
       "    <tr>\n",
       "      <th>2021-10-28</th>\n",
       "      <td>26.850000</td>\n",
       "      <td>27.170000</td>\n",
       "      <td>26.440001</td>\n",
       "      <td>26.480000</td>\n",
       "      <td>26.480000</td>\n",
       "      <td>3554653</td>\n",
       "    </tr>\n",
       "  </tbody>\n",
       "</table>\n",
       "<p>10708 rows × 6 columns</p>\n",
       "</div>"
      ],
      "text/plain": [
       "                 Open       High        Low      Close  Adj Close    Volume\n",
       "Date                                                                       \n",
       "1979-05-15   3.559404   3.607504   3.511304   3.559404   1.989832     22349\n",
       "1979-05-16   3.583454   3.823954   3.583454   3.799904   2.124280     66008\n",
       "1979-05-17   3.799904   3.848004   3.799904   3.848004   2.151171     57692\n",
       "1979-05-18   3.848004   3.992304   3.848004   3.968254   2.218394    119023\n",
       "1979-05-21   3.968254   4.064454   3.920154   4.040404   2.258728    106549\n",
       "...               ...        ...        ...        ...        ...       ...\n",
       "2021-10-22  27.200001  27.850000  27.080000  27.680000  27.680000  10646300\n",
       "2021-10-25  28.280001  28.780001  27.920000  28.219999  28.219999   9091200\n",
       "2021-10-26  28.680000  28.680000  28.020000  28.150000  28.150000   8633700\n",
       "2021-10-27  27.500000  28.120001  26.740000  26.900000  26.900000  11501800\n",
       "2021-10-28  26.850000  27.170000  26.440001  26.480000  26.480000   3554653\n",
       "\n",
       "[10708 rows x 6 columns]"
      ]
     },
     "execution_count": 27,
     "metadata": {},
     "output_type": "execute_result"
    }
   ],
   "source": [
    "get_data('stock', 'demo', symbol = 'APA', item = 'history')"
   ]
  },
  {
   "cell_type": "code",
   "execution_count": 28,
   "id": "female-technician",
   "metadata": {},
   "outputs": [],
   "source": [
    "stocks = stocks.inc(lambda history: len(history.data)>0)"
   ]
  },
  {
   "cell_type": "code",
   "execution_count": 29,
   "id": "knowing-herald",
   "metadata": {},
   "outputs": [
    {
     "name": "stderr",
     "output_type": "stream",
     "text": [
      "2021-10-28 17:44:44,267 - pyg - INFO - get_cell(url = 'localhost:27017', db = 'demo', table = 'stock', item = 'adj', symbol = 'APA')()\n",
      "2021-10-28 17:44:44,734 - pyg - INFO - get_cell(url = 'localhost:27017', db = 'demo', table = 'stock', item = 'adj', symbol = 'BKR')()\n",
      "2021-10-28 17:44:45,267 - pyg - INFO - get_cell(url = 'localhost:27017', db = 'demo', table = 'stock', item = 'adj', symbol = 'COG')()\n",
      "2021-10-28 17:44:45,676 - pyg - INFO - get_cell(url = 'localhost:27017', db = 'demo', table = 'stock', item = 'adj', symbol = 'CVX')()\n",
      "2021-10-28 17:44:46,185 - pyg - INFO - get_cell(url = 'localhost:27017', db = 'demo', table = 'stock', item = 'adj', symbol = 'COP')()\n",
      "2021-10-28 17:44:46,907 - pyg - INFO - get_cell(url = 'localhost:27017', db = 'demo', table = 'stock', item = 'adj', symbol = 'DVN')()\n",
      "2021-10-28 17:44:47,355 - pyg - INFO - get_cell(url = 'localhost:27017', db = 'demo', table = 'stock', item = 'adj', symbol = 'FANG')()\n",
      "2021-10-28 17:44:47,597 - pyg - INFO - get_cell(url = 'localhost:27017', db = 'demo', table = 'stock', item = 'adj', symbol = 'EOG')()\n",
      "2021-10-28 17:44:48,012 - pyg - INFO - get_cell(url = 'localhost:27017', db = 'demo', table = 'stock', item = 'adj', symbol = 'XOM')()\n",
      "2021-10-28 17:44:49,067 - pyg - INFO - get_cell(url = 'localhost:27017', db = 'demo', table = 'stock', item = 'adj', symbol = 'HAL')()\n",
      "2021-10-28 17:44:50,093 - pyg - INFO - get_cell(url = 'localhost:27017', db = 'demo', table = 'stock', item = 'adj', symbol = 'HES')()\n",
      "2021-10-28 17:44:50,960 - pyg - INFO - get_cell(url = 'localhost:27017', db = 'demo', table = 'stock', item = 'adj', symbol = 'HFC')()\n",
      "2021-10-28 17:44:51,460 - pyg - INFO - get_cell(url = 'localhost:27017', db = 'demo', table = 'stock', item = 'adj', symbol = 'KMI')()\n",
      "2021-10-28 17:44:51,864 - pyg - INFO - get_cell(url = 'localhost:27017', db = 'demo', table = 'stock', item = 'adj', symbol = 'MRO')()\n",
      "2021-10-28 17:44:52,758 - pyg - INFO - get_cell(url = 'localhost:27017', db = 'demo', table = 'stock', item = 'adj', symbol = 'MPC')()\n",
      "2021-10-28 17:44:52,968 - pyg - INFO - get_cell(url = 'localhost:27017', db = 'demo', table = 'stock', item = 'adj', symbol = 'NOV')()\n",
      "2021-10-28 17:44:53,535 - pyg - INFO - get_cell(url = 'localhost:27017', db = 'demo', table = 'stock', item = 'adj', symbol = 'OXY')()\n",
      "2021-10-28 17:44:53,992 - pyg - INFO - get_cell(url = 'localhost:27017', db = 'demo', table = 'stock', item = 'adj', symbol = 'OKE')()\n",
      "2021-10-28 17:44:54,526 - pyg - INFO - get_cell(url = 'localhost:27017', db = 'demo', table = 'stock', item = 'adj', symbol = 'PSX')()\n",
      "2021-10-28 17:44:55,069 - pyg - INFO - get_cell(url = 'localhost:27017', db = 'demo', table = 'stock', item = 'adj', symbol = 'PXD')()\n",
      "2021-10-28 17:44:55,516 - pyg - INFO - get_cell(url = 'localhost:27017', db = 'demo', table = 'stock', item = 'adj', symbol = 'SLB')()\n",
      "2021-10-28 17:44:56,380 - pyg - INFO - get_cell(url = 'localhost:27017', db = 'demo', table = 'stock', item = 'adj', symbol = 'FTI')()\n",
      "2021-10-28 17:44:56,898 - pyg - INFO - get_cell(url = 'localhost:27017', db = 'demo', table = 'stock', item = 'adj', symbol = 'VLO')()\n",
      "2021-10-28 17:44:57,370 - pyg - INFO - get_cell(url = 'localhost:27017', db = 'demo', table = 'stock', item = 'adj', symbol = 'WMB')()\n"
     ]
    }
   ],
   "source": [
    "stocks = stocks(adj = lambda history, symbol: periodic_cell(getitem, value = history, key = 'Adj Close', \n",
    "                                                            db = sdb, symbol = symbol, item = 'adj')()) "
   ]
  },
  {
   "cell_type": "code",
   "execution_count": 30,
   "id": "portable-allowance",
   "metadata": {},
   "outputs": [
    {
     "name": "stderr",
     "output_type": "stream",
     "text": [
      "2021-10-28 19:29:48,814 - pyg - INFO - get_cell(url = 'localhost:27017', db = 'demo', table = 'stock', item = 'rtn', symbol = 'APA')()\n",
      "2021-10-28 19:29:49,161 - pyg - INFO - get_cell(url = 'localhost:27017', db = 'demo', table = 'stock', item = 'rtn', symbol = 'BKR')()\n",
      "2021-10-28 19:29:49,550 - pyg - INFO - get_cell(url = 'localhost:27017', db = 'demo', table = 'stock', item = 'rtn', symbol = 'COG')()\n",
      "2021-10-28 19:29:49,810 - pyg - INFO - get_cell(url = 'localhost:27017', db = 'demo', table = 'stock', item = 'rtn', symbol = 'CVX')()\n",
      "2021-10-28 19:29:50,141 - pyg - INFO - get_cell(url = 'localhost:27017', db = 'demo', table = 'stock', item = 'rtn', symbol = 'COP')()\n",
      "2021-10-28 19:29:50,494 - pyg - INFO - get_cell(url = 'localhost:27017', db = 'demo', table = 'stock', item = 'rtn', symbol = 'DVN')()\n",
      "2021-10-28 19:29:50,978 - pyg - INFO - get_cell(url = 'localhost:27017', db = 'demo', table = 'stock', item = 'rtn', symbol = 'FANG')()\n",
      "2021-10-28 19:29:51,208 - pyg - INFO - get_cell(url = 'localhost:27017', db = 'demo', table = 'stock', item = 'rtn', symbol = 'EOG')()\n",
      "2021-10-28 19:29:51,471 - pyg - INFO - get_cell(url = 'localhost:27017', db = 'demo', table = 'stock', item = 'rtn', symbol = 'XOM')()\n",
      "2021-10-28 19:29:51,826 - pyg - INFO - get_cell(url = 'localhost:27017', db = 'demo', table = 'stock', item = 'rtn', symbol = 'HAL')()\n",
      "2021-10-28 19:29:52,135 - pyg - INFO - get_cell(url = 'localhost:27017', db = 'demo', table = 'stock', item = 'rtn', symbol = 'HES')()\n",
      "2021-10-28 19:29:52,569 - pyg - INFO - get_cell(url = 'localhost:27017', db = 'demo', table = 'stock', item = 'rtn', symbol = 'HFC')()\n",
      "2021-10-28 19:29:53,266 - pyg - INFO - get_cell(url = 'localhost:27017', db = 'demo', table = 'stock', item = 'rtn', symbol = 'KMI')()\n",
      "2021-10-28 19:29:53,549 - pyg - INFO - get_cell(url = 'localhost:27017', db = 'demo', table = 'stock', item = 'rtn', symbol = 'MRO')()\n",
      "2021-10-28 19:29:53,936 - pyg - INFO - get_cell(url = 'localhost:27017', db = 'demo', table = 'stock', item = 'rtn', symbol = 'MPC')()\n",
      "2021-10-28 19:29:54,165 - pyg - INFO - get_cell(url = 'localhost:27017', db = 'demo', table = 'stock', item = 'rtn', symbol = 'NOV')()\n",
      "2021-10-28 19:29:54,422 - pyg - INFO - get_cell(url = 'localhost:27017', db = 'demo', table = 'stock', item = 'rtn', symbol = 'OXY')()\n",
      "2021-10-28 19:29:54,947 - pyg - INFO - get_cell(url = 'localhost:27017', db = 'demo', table = 'stock', item = 'rtn', symbol = 'OKE')()\n",
      "2021-10-28 19:29:55,196 - pyg - INFO - get_cell(url = 'localhost:27017', db = 'demo', table = 'stock', item = 'rtn', symbol = 'PSX')()\n",
      "2021-10-28 19:29:55,383 - pyg - INFO - get_cell(url = 'localhost:27017', db = 'demo', table = 'stock', item = 'rtn', symbol = 'PXD')()\n",
      "2021-10-28 19:29:55,591 - pyg - INFO - get_cell(url = 'localhost:27017', db = 'demo', table = 'stock', item = 'rtn', symbol = 'SLB')()\n",
      "2021-10-28 19:29:55,969 - pyg - INFO - get_cell(url = 'localhost:27017', db = 'demo', table = 'stock', item = 'rtn', symbol = 'FTI')()\n",
      "2021-10-28 19:29:56,212 - pyg - INFO - get_cell(url = 'localhost:27017', db = 'demo', table = 'stock', item = 'rtn', symbol = 'VLO')()\n",
      "2021-10-28 19:29:56,474 - pyg - INFO - get_cell(url = 'localhost:27017', db = 'demo', table = 'stock', item = 'rtn', symbol = 'WMB')()\n"
     ]
    }
   ],
   "source": [
    "stocks = stocks(rtn = lambda adj, symbol: periodic_cell(diff, a = adj, \n",
    "                                                        db = sdb, symbol = symbol, item = 'rtn')())"
   ]
  },
  {
   "cell_type": "code",
   "execution_count": 31,
   "id": "urban-machine",
   "metadata": {},
   "outputs": [
    {
     "name": "stderr",
     "output_type": "stream",
     "text": [
      "2021-10-28 19:29:56,725 - pyg - INFO - get_cell(url = 'localhost:27017', db = 'demo', table = 'stock', item = 'vol', symbol = 'APA')()\n",
      "2021-10-28 19:29:56,918 - pyg - INFO - get_cell(url = 'localhost:27017', db = 'demo', table = 'stock', item = 'vol', symbol = 'BKR')()\n",
      "2021-10-28 19:29:57,142 - pyg - INFO - get_cell(url = 'localhost:27017', db = 'demo', table = 'stock', item = 'vol', symbol = 'COG')()\n",
      "2021-10-28 19:29:57,336 - pyg - INFO - get_cell(url = 'localhost:27017', db = 'demo', table = 'stock', item = 'vol', symbol = 'CVX')()\n",
      "2021-10-28 19:29:57,559 - pyg - INFO - get_cell(url = 'localhost:27017', db = 'demo', table = 'stock', item = 'vol', symbol = 'COP')()\n",
      "2021-10-28 19:29:57,776 - pyg - INFO - get_cell(url = 'localhost:27017', db = 'demo', table = 'stock', item = 'vol', symbol = 'DVN')()\n",
      "2021-10-28 19:29:58,031 - pyg - INFO - get_cell(url = 'localhost:27017', db = 'demo', table = 'stock', item = 'vol', symbol = 'FANG')()\n",
      "2021-10-28 19:29:58,225 - pyg - INFO - get_cell(url = 'localhost:27017', db = 'demo', table = 'stock', item = 'vol', symbol = 'EOG')()\n",
      "2021-10-28 19:29:58,421 - pyg - INFO - get_cell(url = 'localhost:27017', db = 'demo', table = 'stock', item = 'vol', symbol = 'XOM')()\n",
      "2021-10-28 19:29:59,040 - pyg - INFO - get_cell(url = 'localhost:27017', db = 'demo', table = 'stock', item = 'vol', symbol = 'HAL')()\n",
      "2021-10-28 19:29:59,249 - pyg - INFO - get_cell(url = 'localhost:27017', db = 'demo', table = 'stock', item = 'vol', symbol = 'HES')()\n",
      "2021-10-28 19:29:59,649 - pyg - INFO - get_cell(url = 'localhost:27017', db = 'demo', table = 'stock', item = 'vol', symbol = 'HFC')()\n",
      "2021-10-28 19:29:59,862 - pyg - INFO - get_cell(url = 'localhost:27017', db = 'demo', table = 'stock', item = 'vol', symbol = 'KMI')()\n",
      "2021-10-28 19:30:00,040 - pyg - INFO - get_cell(url = 'localhost:27017', db = 'demo', table = 'stock', item = 'vol', symbol = 'MRO')()\n",
      "2021-10-28 19:30:00,266 - pyg - INFO - get_cell(url = 'localhost:27017', db = 'demo', table = 'stock', item = 'vol', symbol = 'MPC')()\n",
      "2021-10-28 19:30:00,446 - pyg - INFO - get_cell(url = 'localhost:27017', db = 'demo', table = 'stock', item = 'vol', symbol = 'NOV')()\n",
      "2021-10-28 19:30:00,683 - pyg - INFO - get_cell(url = 'localhost:27017', db = 'demo', table = 'stock', item = 'vol', symbol = 'OXY')()\n",
      "2021-10-28 19:30:01,285 - pyg - INFO - get_cell(url = 'localhost:27017', db = 'demo', table = 'stock', item = 'vol', symbol = 'OKE')()\n",
      "2021-10-28 19:30:01,486 - pyg - INFO - get_cell(url = 'localhost:27017', db = 'demo', table = 'stock', item = 'vol', symbol = 'PSX')()\n",
      "2021-10-28 19:30:01,687 - pyg - INFO - get_cell(url = 'localhost:27017', db = 'demo', table = 'stock', item = 'vol', symbol = 'PXD')()\n",
      "2021-10-28 19:30:01,915 - pyg - INFO - get_cell(url = 'localhost:27017', db = 'demo', table = 'stock', item = 'vol', symbol = 'SLB')()\n",
      "2021-10-28 19:30:02,135 - pyg - INFO - get_cell(url = 'localhost:27017', db = 'demo', table = 'stock', item = 'vol', symbol = 'FTI')()\n",
      "2021-10-28 19:30:02,353 - pyg - INFO - get_cell(url = 'localhost:27017', db = 'demo', table = 'stock', item = 'vol', symbol = 'VLO')()\n",
      "2021-10-28 19:30:02,559 - pyg - INFO - get_cell(url = 'localhost:27017', db = 'demo', table = 'stock', item = 'vol', symbol = 'WMB')()\n"
     ]
    }
   ],
   "source": [
    "stocks = stocks(vol = lambda rtn, symbol: periodic_cell(ewmstd, a = rtn, n =  30,  \n",
    "                                                        db = sdb, symbol = symbol, item = 'vol')())"
   ]
  },
  {
   "cell_type": "code",
   "execution_count": 32,
   "id": "7abcfbe5-af9c-4b06-a0e1-4c0e74d5b053",
   "metadata": {},
   "outputs": [
    {
     "data": {
      "text/plain": [
       "Date\n",
       "1979-05-15         NaN\n",
       "1979-05-16         NaN\n",
       "1979-05-17         NaN\n",
       "1979-05-18         NaN\n",
       "1979-05-21         NaN\n",
       "                ...   \n",
       "2021-10-22    0.712025\n",
       "2021-10-25    0.703151\n",
       "2021-10-26    0.693454\n",
       "2021-10-27    0.729227\n",
       "2021-10-28    0.724516\n",
       "Length: 10708, dtype: float64"
      ]
     },
     "execution_count": 32,
     "metadata": {},
     "output_type": "execute_result"
    }
   ],
   "source": [
    "get_data('stock', 'demo', symbol = 'APA', item = 'vol')"
   ]
  },
  {
   "cell_type": "markdown",
   "id": "mighty-friendship",
   "metadata": {},
   "source": [
    "### Calculating the forecasts & saving them"
   ]
  },
  {
   "cell_type": "code",
   "execution_count": 33,
   "id": "editorial-member",
   "metadata": {},
   "outputs": [],
   "source": [
    "forecasts = stocks * dictable(fast = [2,4,8], slow = [6,12,24], forecast = ['fast', 'medium', 'slow'])"
   ]
  },
  {
   "cell_type": "code",
   "execution_count": 46,
   "id": "competitive-settlement",
   "metadata": {},
   "outputs": [
    {
     "name": "stderr",
     "output_type": "stream",
     "text": [
      "2021-10-28 19:33:17,919 - pyg - INFO - get_cell(url = 'localhost:27017', db = 'demo', table = 'forecast', forecast = 'fast', item = 'signal', symbol = 'APA')()\n",
      "2021-10-28 19:33:18,316 - pyg - INFO - get_cell(url = 'localhost:27017', db = 'demo', table = 'forecast', forecast = 'medium', item = 'signal', symbol = 'APA')()\n",
      "2021-10-28 19:33:18,541 - pyg - INFO - get_cell(url = 'localhost:27017', db = 'demo', table = 'forecast', forecast = 'slow', item = 'signal', symbol = 'APA')()\n",
      "2021-10-28 19:33:18,844 - pyg - INFO - get_cell(url = 'localhost:27017', db = 'demo', table = 'forecast', forecast = 'fast', item = 'signal', symbol = 'BKR')()\n",
      "2021-10-28 19:33:19,093 - pyg - INFO - get_cell(url = 'localhost:27017', db = 'demo', table = 'forecast', forecast = 'medium', item = 'signal', symbol = 'BKR')()\n",
      "2021-10-28 19:33:19,313 - pyg - INFO - get_cell(url = 'localhost:27017', db = 'demo', table = 'forecast', forecast = 'slow', item = 'signal', symbol = 'BKR')()\n",
      "2021-10-28 19:33:19,603 - pyg - INFO - get_cell(url = 'localhost:27017', db = 'demo', table = 'forecast', forecast = 'fast', item = 'signal', symbol = 'COG')()\n",
      "2021-10-28 19:33:19,872 - pyg - INFO - get_cell(url = 'localhost:27017', db = 'demo', table = 'forecast', forecast = 'medium', item = 'signal', symbol = 'COG')()\n",
      "2021-10-28 19:33:20,104 - pyg - INFO - get_cell(url = 'localhost:27017', db = 'demo', table = 'forecast', forecast = 'slow', item = 'signal', symbol = 'COG')()\n",
      "2021-10-28 19:33:20,310 - pyg - INFO - get_cell(url = 'localhost:27017', db = 'demo', table = 'forecast', forecast = 'fast', item = 'signal', symbol = 'CVX')()\n",
      "2021-10-28 19:33:20,559 - pyg - INFO - get_cell(url = 'localhost:27017', db = 'demo', table = 'forecast', forecast = 'medium', item = 'signal', symbol = 'CVX')()\n",
      "2021-10-28 19:33:20,845 - pyg - INFO - get_cell(url = 'localhost:27017', db = 'demo', table = 'forecast', forecast = 'slow', item = 'signal', symbol = 'CVX')()\n",
      "2021-10-28 19:33:21,142 - pyg - INFO - get_cell(url = 'localhost:27017', db = 'demo', table = 'forecast', forecast = 'fast', item = 'signal', symbol = 'COP')()\n",
      "2021-10-28 19:33:21,383 - pyg - INFO - get_cell(url = 'localhost:27017', db = 'demo', table = 'forecast', forecast = 'medium', item = 'signal', symbol = 'COP')()\n",
      "2021-10-28 19:33:21,614 - pyg - INFO - get_cell(url = 'localhost:27017', db = 'demo', table = 'forecast', forecast = 'slow', item = 'signal', symbol = 'COP')()\n",
      "2021-10-28 19:33:21,884 - pyg - INFO - get_cell(url = 'localhost:27017', db = 'demo', table = 'forecast', forecast = 'fast', item = 'signal', symbol = 'DVN')()\n",
      "2021-10-28 19:33:22,154 - pyg - INFO - get_cell(url = 'localhost:27017', db = 'demo', table = 'forecast', forecast = 'medium', item = 'signal', symbol = 'DVN')()\n",
      "2021-10-28 19:33:22,449 - pyg - INFO - get_cell(url = 'localhost:27017', db = 'demo', table = 'forecast', forecast = 'slow', item = 'signal', symbol = 'DVN')()\n",
      "2021-10-28 19:33:22,673 - pyg - INFO - get_cell(url = 'localhost:27017', db = 'demo', table = 'forecast', forecast = 'fast', item = 'signal', symbol = 'FANG')()\n",
      "2021-10-28 19:33:22,897 - pyg - INFO - get_cell(url = 'localhost:27017', db = 'demo', table = 'forecast', forecast = 'medium', item = 'signal', symbol = 'FANG')()\n",
      "2021-10-28 19:33:23,122 - pyg - INFO - get_cell(url = 'localhost:27017', db = 'demo', table = 'forecast', forecast = 'slow', item = 'signal', symbol = 'FANG')()\n",
      "2021-10-28 19:33:23,359 - pyg - INFO - get_cell(url = 'localhost:27017', db = 'demo', table = 'forecast', forecast = 'fast', item = 'signal', symbol = 'EOG')()\n",
      "2021-10-28 19:33:23,671 - pyg - INFO - get_cell(url = 'localhost:27017', db = 'demo', table = 'forecast', forecast = 'medium', item = 'signal', symbol = 'EOG')()\n",
      "2021-10-28 19:33:23,882 - pyg - INFO - get_cell(url = 'localhost:27017', db = 'demo', table = 'forecast', forecast = 'slow', item = 'signal', symbol = 'EOG')()\n",
      "2021-10-28 19:33:24,107 - pyg - INFO - get_cell(url = 'localhost:27017', db = 'demo', table = 'forecast', forecast = 'fast', item = 'signal', symbol = 'XOM')()\n",
      "2021-10-28 19:33:24,328 - pyg - INFO - get_cell(url = 'localhost:27017', db = 'demo', table = 'forecast', forecast = 'medium', item = 'signal', symbol = 'XOM')()\n",
      "2021-10-28 19:33:24,547 - pyg - INFO - get_cell(url = 'localhost:27017', db = 'demo', table = 'forecast', forecast = 'slow', item = 'signal', symbol = 'XOM')()\n",
      "2021-10-28 19:33:24,792 - pyg - INFO - get_cell(url = 'localhost:27017', db = 'demo', table = 'forecast', forecast = 'fast', item = 'signal', symbol = 'HAL')()\n",
      "2021-10-28 19:33:25,031 - pyg - INFO - get_cell(url = 'localhost:27017', db = 'demo', table = 'forecast', forecast = 'medium', item = 'signal', symbol = 'HAL')()\n",
      "2021-10-28 19:33:25,341 - pyg - INFO - get_cell(url = 'localhost:27017', db = 'demo', table = 'forecast', forecast = 'slow', item = 'signal', symbol = 'HAL')()\n",
      "2021-10-28 19:33:25,634 - pyg - INFO - get_cell(url = 'localhost:27017', db = 'demo', table = 'forecast', forecast = 'fast', item = 'signal', symbol = 'HES')()\n",
      "2021-10-28 19:33:25,930 - pyg - INFO - get_cell(url = 'localhost:27017', db = 'demo', table = 'forecast', forecast = 'medium', item = 'signal', symbol = 'HES')()\n",
      "2021-10-28 19:33:26,218 - pyg - INFO - get_cell(url = 'localhost:27017', db = 'demo', table = 'forecast', forecast = 'slow', item = 'signal', symbol = 'HES')()\n",
      "2021-10-28 19:33:26,431 - pyg - INFO - get_cell(url = 'localhost:27017', db = 'demo', table = 'forecast', forecast = 'fast', item = 'signal', symbol = 'HFC')()\n",
      "2021-10-28 19:33:26,689 - pyg - INFO - get_cell(url = 'localhost:27017', db = 'demo', table = 'forecast', forecast = 'medium', item = 'signal', symbol = 'HFC')()\n",
      "2021-10-28 19:33:26,903 - pyg - INFO - get_cell(url = 'localhost:27017', db = 'demo', table = 'forecast', forecast = 'slow', item = 'signal', symbol = 'HFC')()\n",
      "2021-10-28 19:33:27,152 - pyg - INFO - get_cell(url = 'localhost:27017', db = 'demo', table = 'forecast', forecast = 'fast', item = 'signal', symbol = 'KMI')()\n",
      "2021-10-28 19:33:27,574 - pyg - INFO - get_cell(url = 'localhost:27017', db = 'demo', table = 'forecast', forecast = 'medium', item = 'signal', symbol = 'KMI')()\n",
      "2021-10-28 19:33:27,805 - pyg - INFO - get_cell(url = 'localhost:27017', db = 'demo', table = 'forecast', forecast = 'slow', item = 'signal', symbol = 'KMI')()\n",
      "2021-10-28 19:33:28,034 - pyg - INFO - get_cell(url = 'localhost:27017', db = 'demo', table = 'forecast', forecast = 'fast', item = 'signal', symbol = 'MRO')()\n",
      "2021-10-28 19:33:28,643 - pyg - INFO - get_cell(url = 'localhost:27017', db = 'demo', table = 'forecast', forecast = 'medium', item = 'signal', symbol = 'MRO')()\n",
      "2021-10-28 19:33:29,125 - pyg - INFO - get_cell(url = 'localhost:27017', db = 'demo', table = 'forecast', forecast = 'slow', item = 'signal', symbol = 'MRO')()\n",
      "2021-10-28 19:33:29,409 - pyg - INFO - get_cell(url = 'localhost:27017', db = 'demo', table = 'forecast', forecast = 'fast', item = 'signal', symbol = 'MPC')()\n",
      "2021-10-28 19:33:29,626 - pyg - INFO - get_cell(url = 'localhost:27017', db = 'demo', table = 'forecast', forecast = 'medium', item = 'signal', symbol = 'MPC')()\n",
      "2021-10-28 19:33:29,826 - pyg - INFO - get_cell(url = 'localhost:27017', db = 'demo', table = 'forecast', forecast = 'slow', item = 'signal', symbol = 'MPC')()\n",
      "2021-10-28 19:33:30,153 - pyg - INFO - get_cell(url = 'localhost:27017', db = 'demo', table = 'forecast', forecast = 'fast', item = 'signal', symbol = 'NOV')()\n",
      "2021-10-28 19:33:30,376 - pyg - INFO - get_cell(url = 'localhost:27017', db = 'demo', table = 'forecast', forecast = 'medium', item = 'signal', symbol = 'NOV')()\n",
      "2021-10-28 19:33:30,607 - pyg - INFO - get_cell(url = 'localhost:27017', db = 'demo', table = 'forecast', forecast = 'slow', item = 'signal', symbol = 'NOV')()\n",
      "2021-10-28 19:33:31,197 - pyg - INFO - get_cell(url = 'localhost:27017', db = 'demo', table = 'forecast', forecast = 'fast', item = 'signal', symbol = 'OXY')()\n",
      "2021-10-28 19:33:31,419 - pyg - INFO - get_cell(url = 'localhost:27017', db = 'demo', table = 'forecast', forecast = 'medium', item = 'signal', symbol = 'OXY')()\n",
      "2021-10-28 19:33:31,775 - pyg - INFO - get_cell(url = 'localhost:27017', db = 'demo', table = 'forecast', forecast = 'slow', item = 'signal', symbol = 'OXY')()\n",
      "2021-10-28 19:33:32,314 - pyg - INFO - get_cell(url = 'localhost:27017', db = 'demo', table = 'forecast', forecast = 'fast', item = 'signal', symbol = 'OKE')()\n",
      "2021-10-28 19:33:32,549 - pyg - INFO - get_cell(url = 'localhost:27017', db = 'demo', table = 'forecast', forecast = 'medium', item = 'signal', symbol = 'OKE')()\n",
      "2021-10-28 19:33:32,798 - pyg - INFO - get_cell(url = 'localhost:27017', db = 'demo', table = 'forecast', forecast = 'slow', item = 'signal', symbol = 'OKE')()\n",
      "2021-10-28 19:33:33,076 - pyg - INFO - get_cell(url = 'localhost:27017', db = 'demo', table = 'forecast', forecast = 'fast', item = 'signal', symbol = 'PSX')()\n",
      "2021-10-28 19:33:33,293 - pyg - INFO - get_cell(url = 'localhost:27017', db = 'demo', table = 'forecast', forecast = 'medium', item = 'signal', symbol = 'PSX')()\n",
      "2021-10-28 19:33:33,541 - pyg - INFO - get_cell(url = 'localhost:27017', db = 'demo', table = 'forecast', forecast = 'slow', item = 'signal', symbol = 'PSX')()\n",
      "2021-10-28 19:33:33,744 - pyg - INFO - get_cell(url = 'localhost:27017', db = 'demo', table = 'forecast', forecast = 'fast', item = 'signal', symbol = 'PXD')()\n",
      "2021-10-28 19:33:33,969 - pyg - INFO - get_cell(url = 'localhost:27017', db = 'demo', table = 'forecast', forecast = 'medium', item = 'signal', symbol = 'PXD')()\n",
      "2021-10-28 19:33:34,215 - pyg - INFO - get_cell(url = 'localhost:27017', db = 'demo', table = 'forecast', forecast = 'slow', item = 'signal', symbol = 'PXD')()\n",
      "2021-10-28 19:33:34,458 - pyg - INFO - get_cell(url = 'localhost:27017', db = 'demo', table = 'forecast', forecast = 'fast', item = 'signal', symbol = 'SLB')()\n",
      "2021-10-28 19:33:34,684 - pyg - INFO - get_cell(url = 'localhost:27017', db = 'demo', table = 'forecast', forecast = 'medium', item = 'signal', symbol = 'SLB')()\n",
      "2021-10-28 19:33:34,948 - pyg - INFO - get_cell(url = 'localhost:27017', db = 'demo', table = 'forecast', forecast = 'slow', item = 'signal', symbol = 'SLB')()\n",
      "2021-10-28 19:33:35,206 - pyg - INFO - get_cell(url = 'localhost:27017', db = 'demo', table = 'forecast', forecast = 'fast', item = 'signal', symbol = 'FTI')()\n",
      "2021-10-28 19:33:35,429 - pyg - INFO - get_cell(url = 'localhost:27017', db = 'demo', table = 'forecast', forecast = 'medium', item = 'signal', symbol = 'FTI')()\n",
      "2021-10-28 19:33:35,655 - pyg - INFO - get_cell(url = 'localhost:27017', db = 'demo', table = 'forecast', forecast = 'slow', item = 'signal', symbol = 'FTI')()\n",
      "2021-10-28 19:33:35,911 - pyg - INFO - get_cell(url = 'localhost:27017', db = 'demo', table = 'forecast', forecast = 'fast', item = 'signal', symbol = 'VLO')()\n",
      "2021-10-28 19:33:36,156 - pyg - INFO - get_cell(url = 'localhost:27017', db = 'demo', table = 'forecast', forecast = 'medium', item = 'signal', symbol = 'VLO')()\n",
      "2021-10-28 19:33:36,485 - pyg - INFO - get_cell(url = 'localhost:27017', db = 'demo', table = 'forecast', forecast = 'slow', item = 'signal', symbol = 'VLO')()\n",
      "2021-10-28 19:33:36,722 - pyg - INFO - get_cell(url = 'localhost:27017', db = 'demo', table = 'forecast', forecast = 'fast', item = 'signal', symbol = 'WMB')()\n",
      "2021-10-28 19:33:37,080 - pyg - INFO - get_cell(url = 'localhost:27017', db = 'demo', table = 'forecast', forecast = 'medium', item = 'signal', symbol = 'WMB')()\n",
      "2021-10-28 19:33:37,367 - pyg - INFO - get_cell(url = 'localhost:27017', db = 'demo', table = 'forecast', forecast = 'slow', item = 'signal', symbol = 'WMB')()\n"
     ]
    }
   ],
   "source": [
    "forecasts = forecasts(signal = lambda rtn, fast, slow, symbol, forecast: periodic_cell(crossover_, a = rtn, fast = fast, slow = slow, vol = 30,\n",
    "                                            db = fdb, symbol = symbol, forecast = forecast, item = 'signal')(go = 1))"
   ]
  },
  {
   "cell_type": "code",
   "execution_count": 47,
   "id": "changed-compression",
   "metadata": {},
   "outputs": [
    {
     "name": "stderr",
     "output_type": "stream",
     "text": [
      "2021-10-28 19:34:00,197 - pyg - INFO - get_cell(url = 'localhost:27017', db = 'demo', table = 'forecast', forecast = 'fast', item = 'pnl', symbol = 'APA')()\n",
      "2021-10-28 19:34:01,170 - pyg - INFO - get_cell(url = 'localhost:27017', db = 'demo', table = 'forecast', forecast = 'medium', item = 'pnl', symbol = 'APA')()\n",
      "2021-10-28 19:34:01,652 - pyg - INFO - get_cell(url = 'localhost:27017', db = 'demo', table = 'forecast', forecast = 'slow', item = 'pnl', symbol = 'APA')()\n",
      "2021-10-28 19:34:02,204 - pyg - INFO - get_cell(url = 'localhost:27017', db = 'demo', table = 'forecast', forecast = 'fast', item = 'pnl', symbol = 'BKR')()\n",
      "2021-10-28 19:34:02,810 - pyg - INFO - get_cell(url = 'localhost:27017', db = 'demo', table = 'forecast', forecast = 'medium', item = 'pnl', symbol = 'BKR')()\n",
      "2021-10-28 19:34:03,291 - pyg - INFO - get_cell(url = 'localhost:27017', db = 'demo', table = 'forecast', forecast = 'slow', item = 'pnl', symbol = 'BKR')()\n",
      "2021-10-28 19:34:03,805 - pyg - INFO - get_cell(url = 'localhost:27017', db = 'demo', table = 'forecast', forecast = 'fast', item = 'pnl', symbol = 'COG')()\n",
      "2021-10-28 19:34:04,325 - pyg - INFO - get_cell(url = 'localhost:27017', db = 'demo', table = 'forecast', forecast = 'medium', item = 'pnl', symbol = 'COG')()\n",
      "2021-10-28 19:34:04,874 - pyg - INFO - get_cell(url = 'localhost:27017', db = 'demo', table = 'forecast', forecast = 'slow', item = 'pnl', symbol = 'COG')()\n",
      "2021-10-28 19:34:05,420 - pyg - INFO - get_cell(url = 'localhost:27017', db = 'demo', table = 'forecast', forecast = 'fast', item = 'pnl', symbol = 'CVX')()\n",
      "2021-10-28 19:34:06,042 - pyg - INFO - get_cell(url = 'localhost:27017', db = 'demo', table = 'forecast', forecast = 'medium', item = 'pnl', symbol = 'CVX')()\n",
      "2021-10-28 19:34:06,608 - pyg - INFO - get_cell(url = 'localhost:27017', db = 'demo', table = 'forecast', forecast = 'slow', item = 'pnl', symbol = 'CVX')()\n",
      "2021-10-28 19:34:07,125 - pyg - INFO - get_cell(url = 'localhost:27017', db = 'demo', table = 'forecast', forecast = 'fast', item = 'pnl', symbol = 'COP')()\n",
      "2021-10-28 19:34:07,711 - pyg - INFO - get_cell(url = 'localhost:27017', db = 'demo', table = 'forecast', forecast = 'medium', item = 'pnl', symbol = 'COP')()\n",
      "2021-10-28 19:34:08,330 - pyg - INFO - get_cell(url = 'localhost:27017', db = 'demo', table = 'forecast', forecast = 'slow', item = 'pnl', symbol = 'COP')()\n",
      "2021-10-28 19:34:08,948 - pyg - INFO - get_cell(url = 'localhost:27017', db = 'demo', table = 'forecast', forecast = 'fast', item = 'pnl', symbol = 'DVN')()\n",
      "2021-10-28 19:34:09,618 - pyg - INFO - get_cell(url = 'localhost:27017', db = 'demo', table = 'forecast', forecast = 'medium', item = 'pnl', symbol = 'DVN')()\n",
      "2021-10-28 19:34:10,149 - pyg - INFO - get_cell(url = 'localhost:27017', db = 'demo', table = 'forecast', forecast = 'slow', item = 'pnl', symbol = 'DVN')()\n",
      "2021-10-28 19:34:10,643 - pyg - INFO - get_cell(url = 'localhost:27017', db = 'demo', table = 'forecast', forecast = 'fast', item = 'pnl', symbol = 'FANG')()\n",
      "2021-10-28 19:34:11,112 - pyg - INFO - get_cell(url = 'localhost:27017', db = 'demo', table = 'forecast', forecast = 'medium', item = 'pnl', symbol = 'FANG')()\n",
      "2021-10-28 19:34:11,524 - pyg - INFO - get_cell(url = 'localhost:27017', db = 'demo', table = 'forecast', forecast = 'slow', item = 'pnl', symbol = 'FANG')()\n",
      "2021-10-28 19:34:11,912 - pyg - INFO - get_cell(url = 'localhost:27017', db = 'demo', table = 'forecast', forecast = 'fast', item = 'pnl', symbol = 'EOG')()\n",
      "2021-10-28 19:34:12,727 - pyg - INFO - get_cell(url = 'localhost:27017', db = 'demo', table = 'forecast', forecast = 'medium', item = 'pnl', symbol = 'EOG')()\n",
      "2021-10-28 19:34:13,276 - pyg - INFO - get_cell(url = 'localhost:27017', db = 'demo', table = 'forecast', forecast = 'slow', item = 'pnl', symbol = 'EOG')()\n",
      "2021-10-28 19:34:13,978 - pyg - INFO - get_cell(url = 'localhost:27017', db = 'demo', table = 'forecast', forecast = 'fast', item = 'pnl', symbol = 'XOM')()\n",
      "2021-10-28 19:34:15,841 - pyg - INFO - get_cell(url = 'localhost:27017', db = 'demo', table = 'forecast', forecast = 'medium', item = 'pnl', symbol = 'XOM')()\n",
      "2021-10-28 19:34:16,939 - pyg - INFO - get_cell(url = 'localhost:27017', db = 'demo', table = 'forecast', forecast = 'slow', item = 'pnl', symbol = 'XOM')()\n",
      "2021-10-28 19:34:17,519 - pyg - INFO - get_cell(url = 'localhost:27017', db = 'demo', table = 'forecast', forecast = 'fast', item = 'pnl', symbol = 'HAL')()\n",
      "2021-10-28 19:34:18,048 - pyg - INFO - get_cell(url = 'localhost:27017', db = 'demo', table = 'forecast', forecast = 'medium', item = 'pnl', symbol = 'HAL')()\n",
      "2021-10-28 19:34:18,607 - pyg - INFO - get_cell(url = 'localhost:27017', db = 'demo', table = 'forecast', forecast = 'slow', item = 'pnl', symbol = 'HAL')()\n",
      "2021-10-28 19:34:19,453 - pyg - INFO - get_cell(url = 'localhost:27017', db = 'demo', table = 'forecast', forecast = 'fast', item = 'pnl', symbol = 'HES')()\n",
      "2021-10-28 19:34:20,038 - pyg - INFO - get_cell(url = 'localhost:27017', db = 'demo', table = 'forecast', forecast = 'medium', item = 'pnl', symbol = 'HES')()\n",
      "2021-10-28 19:34:20,630 - pyg - INFO - get_cell(url = 'localhost:27017', db = 'demo', table = 'forecast', forecast = 'slow', item = 'pnl', symbol = 'HES')()\n",
      "2021-10-28 19:34:21,451 - pyg - INFO - get_cell(url = 'localhost:27017', db = 'demo', table = 'forecast', forecast = 'fast', item = 'pnl', symbol = 'HFC')()\n",
      "2021-10-28 19:34:22,701 - pyg - INFO - get_cell(url = 'localhost:27017', db = 'demo', table = 'forecast', forecast = 'medium', item = 'pnl', symbol = 'HFC')()\n",
      "2021-10-28 19:34:23,244 - pyg - INFO - get_cell(url = 'localhost:27017', db = 'demo', table = 'forecast', forecast = 'slow', item = 'pnl', symbol = 'HFC')()\n",
      "2021-10-28 19:34:25,548 - pyg - INFO - get_cell(url = 'localhost:27017', db = 'demo', table = 'forecast', forecast = 'fast', item = 'pnl', symbol = 'KMI')()\n",
      "2021-10-28 19:34:26,154 - pyg - INFO - get_cell(url = 'localhost:27017', db = 'demo', table = 'forecast', forecast = 'medium', item = 'pnl', symbol = 'KMI')()\n",
      "2021-10-28 19:34:26,775 - pyg - INFO - get_cell(url = 'localhost:27017', db = 'demo', table = 'forecast', forecast = 'slow', item = 'pnl', symbol = 'KMI')()\n",
      "2021-10-28 19:34:27,241 - pyg - INFO - get_cell(url = 'localhost:27017', db = 'demo', table = 'forecast', forecast = 'fast', item = 'pnl', symbol = 'MRO')()\n",
      "2021-10-28 19:34:27,779 - pyg - INFO - get_cell(url = 'localhost:27017', db = 'demo', table = 'forecast', forecast = 'medium', item = 'pnl', symbol = 'MRO')()\n",
      "2021-10-28 19:34:28,439 - pyg - INFO - get_cell(url = 'localhost:27017', db = 'demo', table = 'forecast', forecast = 'slow', item = 'pnl', symbol = 'MRO')()\n",
      "2021-10-28 19:34:28,950 - pyg - INFO - get_cell(url = 'localhost:27017', db = 'demo', table = 'forecast', forecast = 'fast', item = 'pnl', symbol = 'MPC')()\n",
      "2021-10-28 19:34:29,959 - pyg - INFO - get_cell(url = 'localhost:27017', db = 'demo', table = 'forecast', forecast = 'medium', item = 'pnl', symbol = 'MPC')()\n",
      "2021-10-28 19:34:30,442 - pyg - INFO - get_cell(url = 'localhost:27017', db = 'demo', table = 'forecast', forecast = 'slow', item = 'pnl', symbol = 'MPC')()\n",
      "2021-10-28 19:34:30,891 - pyg - INFO - get_cell(url = 'localhost:27017', db = 'demo', table = 'forecast', forecast = 'fast', item = 'pnl', symbol = 'NOV')()\n",
      "2021-10-28 19:34:32,672 - pyg - INFO - get_cell(url = 'localhost:27017', db = 'demo', table = 'forecast', forecast = 'medium', item = 'pnl', symbol = 'NOV')()\n",
      "2021-10-28 19:34:33,525 - pyg - INFO - get_cell(url = 'localhost:27017', db = 'demo', table = 'forecast', forecast = 'slow', item = 'pnl', symbol = 'NOV')()\n",
      "2021-10-28 19:34:33,996 - pyg - INFO - get_cell(url = 'localhost:27017', db = 'demo', table = 'forecast', forecast = 'fast', item = 'pnl', symbol = 'OXY')()\n",
      "2021-10-28 19:34:34,703 - pyg - INFO - get_cell(url = 'localhost:27017', db = 'demo', table = 'forecast', forecast = 'medium', item = 'pnl', symbol = 'OXY')()\n",
      "2021-10-28 19:34:36,090 - pyg - INFO - get_cell(url = 'localhost:27017', db = 'demo', table = 'forecast', forecast = 'slow', item = 'pnl', symbol = 'OXY')()\n",
      "2021-10-28 19:34:36,734 - pyg - INFO - get_cell(url = 'localhost:27017', db = 'demo', table = 'forecast', forecast = 'fast', item = 'pnl', symbol = 'OKE')()\n",
      "2021-10-28 19:34:37,654 - pyg - INFO - get_cell(url = 'localhost:27017', db = 'demo', table = 'forecast', forecast = 'medium', item = 'pnl', symbol = 'OKE')()\n",
      "2021-10-28 19:34:38,845 - pyg - INFO - get_cell(url = 'localhost:27017', db = 'demo', table = 'forecast', forecast = 'slow', item = 'pnl', symbol = 'OKE')()\n",
      "2021-10-28 19:34:40,040 - pyg - INFO - get_cell(url = 'localhost:27017', db = 'demo', table = 'forecast', forecast = 'fast', item = 'pnl', symbol = 'PSX')()\n",
      "2021-10-28 19:34:40,455 - pyg - INFO - get_cell(url = 'localhost:27017', db = 'demo', table = 'forecast', forecast = 'medium', item = 'pnl', symbol = 'PSX')()\n",
      "2021-10-28 19:34:40,966 - pyg - INFO - get_cell(url = 'localhost:27017', db = 'demo', table = 'forecast', forecast = 'slow', item = 'pnl', symbol = 'PSX')()\n",
      "2021-10-28 19:34:41,524 - pyg - INFO - get_cell(url = 'localhost:27017', db = 'demo', table = 'forecast', forecast = 'fast', item = 'pnl', symbol = 'PXD')()\n",
      "2021-10-28 19:34:42,384 - pyg - INFO - get_cell(url = 'localhost:27017', db = 'demo', table = 'forecast', forecast = 'medium', item = 'pnl', symbol = 'PXD')()\n",
      "2021-10-28 19:34:43,094 - pyg - INFO - get_cell(url = 'localhost:27017', db = 'demo', table = 'forecast', forecast = 'slow', item = 'pnl', symbol = 'PXD')()\n",
      "2021-10-28 19:34:43,769 - pyg - INFO - get_cell(url = 'localhost:27017', db = 'demo', table = 'forecast', forecast = 'fast', item = 'pnl', symbol = 'SLB')()\n",
      "2021-10-28 19:34:44,513 - pyg - INFO - get_cell(url = 'localhost:27017', db = 'demo', table = 'forecast', forecast = 'medium', item = 'pnl', symbol = 'SLB')()\n",
      "2021-10-28 19:34:45,838 - pyg - INFO - get_cell(url = 'localhost:27017', db = 'demo', table = 'forecast', forecast = 'slow', item = 'pnl', symbol = 'SLB')()\n",
      "2021-10-28 19:34:46,774 - pyg - INFO - get_cell(url = 'localhost:27017', db = 'demo', table = 'forecast', forecast = 'fast', item = 'pnl', symbol = 'FTI')()\n",
      "2021-10-28 19:34:47,284 - pyg - INFO - get_cell(url = 'localhost:27017', db = 'demo', table = 'forecast', forecast = 'medium', item = 'pnl', symbol = 'FTI')()\n",
      "2021-10-28 19:34:47,792 - pyg - INFO - get_cell(url = 'localhost:27017', db = 'demo', table = 'forecast', forecast = 'slow', item = 'pnl', symbol = 'FTI')()\n",
      "2021-10-28 19:34:48,252 - pyg - INFO - get_cell(url = 'localhost:27017', db = 'demo', table = 'forecast', forecast = 'fast', item = 'pnl', symbol = 'VLO')()\n",
      "2021-10-28 19:34:48,722 - pyg - INFO - get_cell(url = 'localhost:27017', db = 'demo', table = 'forecast', forecast = 'medium', item = 'pnl', symbol = 'VLO')()\n",
      "2021-10-28 19:34:49,516 - pyg - INFO - get_cell(url = 'localhost:27017', db = 'demo', table = 'forecast', forecast = 'slow', item = 'pnl', symbol = 'VLO')()\n",
      "2021-10-28 19:34:50,176 - pyg - INFO - get_cell(url = 'localhost:27017', db = 'demo', table = 'forecast', forecast = 'fast', item = 'pnl', symbol = 'WMB')()\n",
      "2021-10-28 19:34:50,702 - pyg - INFO - get_cell(url = 'localhost:27017', db = 'demo', table = 'forecast', forecast = 'medium', item = 'pnl', symbol = 'WMB')()\n",
      "2021-10-28 19:34:51,260 - pyg - INFO - get_cell(url = 'localhost:27017', db = 'demo', table = 'forecast', forecast = 'slow', item = 'pnl', symbol = 'WMB')()\n"
     ]
    }
   ],
   "source": [
    "forecasts = forecasts(pnl = lambda signal, rtn, vol, symbol, forecast: periodic_cell(signal_pnl, signal = signal, rtn = rtn, vol = vol,\n",
    "                                                        db = fdb, symbol = symbol, forecast = forecast, item = 'pnl')(go = 1))"
   ]
  },
  {
   "cell_type": "code",
   "execution_count": 48,
   "id": "advisory-samuel",
   "metadata": {},
   "outputs": [],
   "source": [
    "forecasts = forecasts(ir = lambda pnl: information_ratio(pnl = pnl.data))"
   ]
  },
  {
   "cell_type": "code",
   "execution_count": 49,
   "id": "constitutional-banner",
   "metadata": {},
   "outputs": [
    {
     "name": "stdout",
     "output_type": "stream",
     "text": [
      "symbol|fast |medium|slow \n",
      "APA   |0.13 |-0.04 |-0.10\n",
      "BKR   |0.06 |-0.08 |-0.11\n",
      "COG   |0.22 |0.13  |-0.01\n",
      "COP   |-0.14|-0.16 |-0.17\n",
      "CVX   |0.46 |0.29  |0.10 \n",
      "DVN   |0.14 |0.13  |0.16 \n",
      "EOG   |0.13 |0.03  |-0.03\n",
      "FANG  |-0.09|-0.10 |-0.18\n",
      "FTI   |-0.19|-0.36 |-0.35\n",
      "HAL   |0.72 |0.46  |0.29 \n",
      "HES   |0.14 |0.02  |0.00 \n",
      "HFC   |0.84 |0.79  |0.69 \n",
      "KMI   |0.39 |0.09  |0.02 \n",
      "MPC   |0.17 |0.42  |0.69 \n",
      "MRO   |0.22 |0.15  |0.13 \n",
      "NOV   |0.08 |-0.06 |-0.05\n",
      "OKE   |-0.25|-0.18 |-0.09\n",
      "OXY   |-0.25|-0.30 |-0.23\n",
      "PSX   |0.07 |0.21  |0.49 \n",
      "PXD   |0.23 |0.17  |0.23 \n",
      "SLB   |-0.07|-0.23 |-0.31\n",
      "VLO   |0.29 |0.29  |0.42 \n",
      "WMB   |0.17 |-0.07 |-0.20\n",
      "XOM   |-0.04|-0.29 |-0.43\n"
     ]
    }
   ],
   "source": [
    "print(forecasts.pivot('symbol', 'forecast', 'ir', [last, f12]))"
   ]
  },
  {
   "cell_type": "markdown",
   "id": "historic-score",
   "metadata": {},
   "source": [
    "## Accessing & running the graph once the graph has been created\n",
    "We can access the data or the cell:"
   ]
  },
  {
   "cell_type": "code",
   "execution_count": 50,
   "id": "specific-layer",
   "metadata": {},
   "outputs": [
    {
     "data": {
      "text/plain": [
       "periodic_cell\n",
       "updated:\n",
       "    2021-10-28 19:34:00.314000\n",
       "period:\n",
       "    1b\n",
       "db:\n",
       "    functools.partial(<function mongo_table at 0x00000184D2AEC9D0>, db='demo', table='forecast', pk=['item', 'symbol', 'forecast'])\n",
       "_id:\n",
       "    602a86fb4de6ffaf1c045c8f\n",
       "_period:\n",
       "    1b\n",
       "_pk:\n",
       "    ['forecast', 'item', 'symbol']\n",
       "a:\n",
       "    periodic_cell\n",
       "    updated:\n",
       "        None\n",
       "    period:\n",
       "        1b\n",
       "    db:\n",
       "        functools.partial(<function mongo_table at 0x00000184D2AEC9D0>, db='demo', table='stock', pk=['item', 'symbol'])\n",
       "    _period:\n",
       "        1b\n",
       "    item:\n",
       "        rtn\n",
       "    symbol:\n",
       "        APA\n",
       "    function:\n",
       "        None\n",
       "data:\n",
       "    Date\n",
       "    1979-05-15         NaN\n",
       "    1979-05-16         NaN\n",
       "    1979-05-17   -1.402762\n",
       "    1979-05-18   -0.939363\n",
       "    1979-05-21   -1.194294\n",
       "                    ...   \n",
       "    2021-10-22   -0.111961\n",
       "    2021-10-25    0.171604\n",
       "    2021-10-26   -0.441283\n",
       "    2021-10-27   -2.128037\n",
       "    2021-10-28   -1.925680\n",
       "    Length: 10708, dtype: float64\n",
       "fast:\n",
       "    2\n",
       "forecast:\n",
       "    fast\n",
       "instate:\n",
       "    None\n",
       "item:\n",
       "    signal\n",
       "slow:\n",
       "    6\n",
       "state:\n",
       "    Dict\n",
       "    fast:\n",
       "        Dict\n",
       "        state:\n",
       "            {'t': nan, 't0': 0.9999999999999999, 't1': 0.46353936200681184}\n",
       "        t:\n",
       "            nan\n",
       "        t0:\n",
       "            0.9999999999999999\n",
       "        t1:\n",
       "            -0.3107037916674027\n",
       "    slow:\n",
       "        Dict\n",
       "        state:\n",
       "            {'t': nan, 't0': 0.9999999999999997, 't1': 0.2672723621042594}\n",
       "        t:\n",
       "            nan\n",
       "        t0:\n",
       "            0.9999999999999997\n",
       "        t1:\n",
       "            0.012725408821250977\n",
       "    vol:\n",
       "        Dict\n",
       "        state:\n",
       "            {'t': nan, 't0': 0.9999999999999983, 't2': 0.02845240938173902}\n",
       "        t:\n",
       "            nan\n",
       "        t0:\n",
       "            0.9999999999999983\n",
       "        t2:\n",
       "            0.028209169320065165\n",
       "symbol:\n",
       "    APA\n",
       "vol:\n",
       "    30\n",
       "function:\n",
       "    <function crossover_ at 0x00000184D69C2C10>"
      ]
     },
     "execution_count": 50,
     "metadata": {},
     "output_type": "execute_result"
    }
   ],
   "source": [
    "get_cell('forecast', 'demo', symbol = 'APA', forecast = 'fast', item = 'signal')"
   ]
  },
  {
   "cell_type": "markdown",
   "id": "occasional-occasions",
   "metadata": {},
   "source": [
    "And now that the graph has been created, you can actually trigger it just by loading. i.e. The code below will give you the fast signal for APA and will ensure it is up-to-date too:"
   ]
  },
  {
   "cell_type": "code",
   "execution_count": 51,
   "id": "irish-chicken",
   "metadata": {},
   "outputs": [
    {
     "name": "stderr",
     "output_type": "stream",
     "text": [
      "2021-10-28 19:35:11,016 - pyg - INFO - get_cell(url = 'localhost:27017', db = 'demo', table = 'forecast', forecast = 'fast', item = 'signal', symbol = 'APA')()\n"
     ]
    },
    {
     "name": "stdout",
     "output_type": "stream",
     "text": [
      "Date\n",
      "1979-05-15         NaN\n",
      "1979-05-16         NaN\n",
      "1979-05-17   -1.402762\n",
      "1979-05-18   -0.939363\n",
      "1979-05-21   -1.194294\n",
      "                ...   \n",
      "2021-10-22   -0.111961\n",
      "2021-10-25    0.171604\n",
      "2021-10-26   -0.441283\n",
      "2021-10-27   -2.128037\n",
      "2021-10-28   -1.925680\n",
      "Length: 10708, dtype: float64\n"
     ]
    }
   ],
   "source": [
    "c = get_cell('forecast', 'demo', symbol = 'APA', forecast = 'fast', item = 'signal')\n",
    "c = c.go()\n",
    "print(c.data)"
   ]
  },
  {
   "cell_type": "markdown",
   "id": "million-google",
   "metadata": {},
   "source": [
    "## Point-in-time, cache and persistency\n",
    "The pk-tables save a full history of all your data. \n",
    "To avoid hitting the database all the time, we also have a local GRAPH singleton that caches all the cells by their address. The cell has few basic operations we need to understand:"
   ]
  },
  {
   "cell_type": "markdown",
   "id": "informational-tutorial",
   "metadata": {},
   "source": [
    "* **cell.run()**: Returns True/False if the cell needs to be calculated. db_cell() just check for values in its output, periodic_cell will also check if it is a new business day.\n",
    "* **cell.go()**: This calculates the cell and saves the result to the database (and to GRAPH). The cell itself is not loaded but all its inputs are loaded\n",
    "    - cell.go(0) : calculate only if there is a need\n",
    "    - cell.go(1) : calculate me but my parents only if there is a need\n",
    "    - cell.go(2) : calculate me & my parents but my grandparents only if there is a need\n",
    "    - cell.go(-1) : calculate everything\n",
    "<br>\n",
    "* **cell.load()**: This loads the data from GRAPH, if not in GRAPH, loads it from MongoDB (and updates also the GRAPH) \n",
    "    - cell.load(-1)  : Clear the data from the GRAPH\n",
    "    - cell.load(0)   : Load & update me from GRAPH, if not, from MongoDB, if not, just return good old me\n",
    "    - cell.load(1)   : If you cannot find me, throw an Exception\n",
    "    - cell.load(date) : Load my version as valid on date. If none exists, throw.\n",
    "    - cell.load([value]): Force GRAPH to clear, only load from DB. Same as cell.load(-1).load(value) \n",
    "* **cell()**: This loads & then go"
   ]
  },
  {
   "cell_type": "code",
   "execution_count": 54,
   "id": "australian-clearing",
   "metadata": {},
   "outputs": [
    {
     "name": "stderr",
     "output_type": "stream",
     "text": [
      "2021-10-28 19:36:34,396 - pyg - INFO - INFO: deleting 0 documents based on M{}\n"
     ]
    }
   ],
   "source": [
    "from pyg import *; from functools import partial\n",
    "db = partial(mongo_table, db = 'demo', table = 'persistency', pk = 'key')\n",
    "db().raw.drop()\n",
    "\n",
    "def f(a, b):\n",
    "    return a+b"
   ]
  },
  {
   "cell_type": "code",
   "execution_count": 55,
   "id": "continent-shock",
   "metadata": {},
   "outputs": [
    {
     "name": "stderr",
     "output_type": "stream",
     "text": [
      "2021-10-28 19:36:34,480 - pyg - INFO - get_cell(url = 'localhost:27017', db = 'demo', table = 'persistency', key = 'z')()\n",
      "2021-10-28 19:36:34,577 - pyg - INFO - get_cell(url = 'localhost:27017', db = 'demo', table = 'persistency', key = 'x')()\n",
      "2021-10-28 19:36:34,647 - pyg - INFO - get_cell(url = 'localhost:27017', db = 'demo', table = 'persistency', key = 'y')()\n"
     ]
    }
   ],
   "source": [
    "## now we set up a fake calculation tree:\n",
    "x = db_cell(f, a = 1, b = 2, db = db, key = 'x')\n",
    "y = db_cell(f, a = x, b = 2, db = db, key = 'y')\n",
    "z = db_cell(f, a = x, b = y, db = db, key = 'z')\n",
    "\n",
    "## and run it by running the final value we want\n",
    "z = z()"
   ]
  },
  {
   "cell_type": "code",
   "execution_count": 56,
   "id": "sunset-absence",
   "metadata": {},
   "outputs": [
    {
     "data": {
      "text/plain": [
       "3"
      ]
     },
     "execution_count": 56,
     "metadata": {},
     "output_type": "execute_result"
    }
   ],
   "source": [
    "## we can access the data:\n",
    "get_data('persistency', 'demo', key = 'x')"
   ]
  },
  {
   "cell_type": "code",
   "execution_count": 57,
   "id": "realistic-williams",
   "metadata": {},
   "outputs": [],
   "source": [
    "t0 = dt()  ## first breakpoint"
   ]
  },
  {
   "cell_type": "code",
   "execution_count": 58,
   "id": "annoying-essence",
   "metadata": {},
   "outputs": [
    {
     "name": "stderr",
     "output_type": "stream",
     "text": [
      "2021-10-28 19:36:39,012 - pyg - INFO - get_cell(url = 'localhost:27017', db = 'demo', table = 'persistency', key = 'x')()\n",
      "2021-10-28 19:36:39,090 - pyg - INFO - get_cell(url = 'localhost:27017', db = 'demo', table = 'persistency', key = 'y')()\n",
      "2021-10-28 19:36:39,255 - pyg - INFO - get_cell(url = 'localhost:27017', db = 'demo', table = 'persistency', key = 'z')()\n"
     ]
    }
   ],
   "source": [
    "x = db_cell(f, a = 10, b = 20, db = db, key = 'x').go()\n",
    "y = db_cell(f, a = x,  b = 20, db = db, key = 'y').go()\n",
    "z = db_cell(f, a = x,  b = y, db = db, key = 'z').go()"
   ]
  },
  {
   "cell_type": "code",
   "execution_count": 59,
   "id": "extreme-string",
   "metadata": {},
   "outputs": [
    {
     "data": {
      "text/plain": [
       "30"
      ]
     },
     "execution_count": 59,
     "metadata": {},
     "output_type": "execute_result"
    }
   ],
   "source": [
    "## and here is the new data\n",
    "get_data('persistency', 'demo', key = 'x')"
   ]
  },
  {
   "cell_type": "code",
   "execution_count": 60,
   "id": "another-hours",
   "metadata": {},
   "outputs": [
    {
     "data": {
      "text/plain": [
       "3"
      ]
     },
     "execution_count": 60,
     "metadata": {},
     "output_type": "execute_result"
    }
   ],
   "source": [
    "## and here is the data valid at our first breakpoint. get_data/get_cell always go to the database to load values\n",
    "get_data('persistency', 'demo', key = 'x', _deleted = t0)"
   ]
  },
  {
   "cell_type": "markdown",
   "id": "designed-reasoning",
   "metadata": {},
   "source": [
    "We can ask a cell to load itself, but remember: it will go to GRAPH first by default. The GRAPH has only one copy of the cell, while in MongoDB, every time we recalculate/save a new version of the cell, we mark the old version in the database as \"deleted\" but otherwise keep it. To force a cell to load itself from the database, encase the breakpoint in a list..."
   ]
  },
  {
   "cell_type": "code",
   "execution_count": 61,
   "id": "mysterious-marks",
   "metadata": {},
   "outputs": [
    {
     "data": {
      "text/plain": [
       "db_cell\n",
       "db:\n",
       "    functools.partial(<function mongo_table at 0x00000184D2AEC9D0>, db='demo', table='persistency', pk='key')\n",
       "_id:\n",
       "    617aedb73e25e90135408419\n",
       "_pk:\n",
       "    ['key']\n",
       "a:\n",
       "    1\n",
       "b:\n",
       "    2\n",
       "data:\n",
       "    3\n",
       "key:\n",
       "    x\n",
       "updated:\n",
       "    2021-10-28 19:36:34.667000\n",
       "_deleted:\n",
       "    2021-10-28 19:36:39.066000\n",
       "function:\n",
       "    <function f at 0x00000184D6E87C10>"
      ]
     },
     "execution_count": 61,
     "metadata": {},
     "output_type": "execute_result"
    }
   ],
   "source": [
    "db_cell(db = db, key = 'x').load([t0])"
   ]
  },
  {
   "cell_type": "markdown",
   "id": "armed-boston",
   "metadata": {},
   "source": [
    "We can force a full recalculation of the tree in a single line of code:"
   ]
  },
  {
   "cell_type": "code",
   "execution_count": 62,
   "id": "julian-orbit",
   "metadata": {},
   "outputs": [
    {
     "name": "stderr",
     "output_type": "stream",
     "text": [
      "2021-10-28 19:36:44,980 - pyg - INFO - get_cell(url = 'localhost:27017', db = 'demo', table = 'persistency', key = 'z')()\n",
      "2021-10-28 19:36:45,144 - pyg - INFO - get_cell(url = 'localhost:27017', db = 'demo', table = 'persistency', key = 'x')()\n",
      "2021-10-28 19:36:45,228 - pyg - INFO - get_cell(url = 'localhost:27017', db = 'demo', table = 'persistency', key = 'y')()\n",
      "2021-10-28 19:36:45,273 - pyg - INFO - get_cell(url = 'localhost:27017', db = 'demo', table = 'persistency', key = 'x')()\n"
     ]
    },
    {
     "data": {
      "text/plain": [
       "8"
      ]
     },
     "execution_count": 62,
     "metadata": {},
     "output_type": "execute_result"
    }
   ],
   "source": [
    "db_cell(db = db, key = 'z')(go = -1, mode = [t0]).data ## Should be 8, same as the old value"
   ]
  },
  {
   "cell_type": "markdown",
   "id": "varied-gilbert",
   "metadata": {},
   "source": [
    "## Comparison of the two workflows\n",
    "Saving to the database has negatives:"
   ]
  },
  {
   "cell_type": "markdown",
   "id": "secret-peripheral",
   "metadata": {},
   "source": [
    "- does require some (but really not much) additional code to specify where each data item goes to\n",
    "- slows down the calculation"
   ]
  },
  {
   "cell_type": "markdown",
   "id": "sunset-transmission",
   "metadata": {},
   "source": [
    "Conversely, "
   ]
  },
  {
   "cell_type": "markdown",
   "id": "mexican-webster",
   "metadata": {},
   "source": [
    "+ We get full persistency: We can access each part of the graph with full visibility on the inputs, the function used to calculate the result, the function output(s), the location of where the data is stored and the time it was last updated as well as the periodicity it is calculated.\n",
    "+ We get full audit, past calculations remain available to track (and indeed, rerun) if anything goes wrong\n",
    "+ Each node will manage its schedule, ensuring data is up-to-date \n",
    "+ We can run just the parts of the graph we are interested in (and can run in parallel)"
   ]
  },
  {
   "cell_type": "markdown",
   "id": "armed-husband",
   "metadata": {},
   "source": [
    "## To save or not to save?\n",
    "Luckily we don't really need to decide on one workflow or the other as both can happily coexist. \n",
    "<br> We can build a calculation graph and decide that some key points in the calculation we want to save while intermediate calculations we can calculate on the fly and not save at all. \n",
    "<br> We have met the crossover function. Here we implement it 'on the fly' while saving just final value to db"
   ]
  },
  {
   "cell_type": "code",
   "execution_count": 63,
   "id": "arabic-hardware",
   "metadata": {},
   "outputs": [],
   "source": [
    "from pyg import *; import pandas as pd; import numpy as np; from functools import partial"
   ]
  },
  {
   "cell_type": "code",
   "execution_count": 64,
   "id": "civic-calculation",
   "metadata": {},
   "outputs": [
    {
     "name": "stderr",
     "output_type": "stream",
     "text": [
      "2021-10-28 19:36:53,103 - pyg - INFO - INFO: deleting 11 documents based on M{}\n"
     ]
    },
    {
     "data": {
      "text/plain": [
       "<class 'pyg.mongo._cursor.mongo_cursor'> for Collection(Database(MongoClient(host=['localhost:27017'], document_class=dict, tz_aware=False, connect=True), 'test'), 'test') \n",
       "M{} None\n",
       "documents count: 0"
      ]
     },
     "execution_count": 64,
     "metadata": {},
     "output_type": "execute_result"
    }
   ],
   "source": [
    "def fake_ts(ticker):\n",
    "    return pd.Series(np.random.normal(0,1,1000), drange(-999))\n",
    "db = partial(mongo_table, db = 'test', table = 'test', pk = ['key'])\n",
    "db().raw.drop()"
   ]
  },
  {
   "cell_type": "code",
   "execution_count": 65,
   "id": "adjusted-consumption",
   "metadata": {},
   "outputs": [
    {
     "name": "stderr",
     "output_type": "stream",
     "text": [
      "2021-10-28 19:36:53,502 - pyg - INFO - get_cell(url = 'localhost:27017', db = 'test', table = 'test', key = 'appl_rtn')()\n",
      "2021-10-28 19:36:53,703 - pyg - INFO - get_cell(url = 'localhost:27017', db = 'test', table = 'test', key = 'appl_crossover')()\n",
      "2021-10-28 19:36:53,705 - pyg - INFO - get_cell(key = 'calculate difference of ewma')()\n",
      "2021-10-28 19:36:53,856 - pyg - INFO - get_cell(key = 'root mean square of difference')()\n",
      "2021-10-28 19:36:53,858 - pyg - INFO - get_cell(key = 'calculate difference of ewma')()\n"
     ]
    }
   ],
   "source": [
    "appl = db_cell(fake_ts, ticker = 'appl', key = 'appl_rtn', db = db)()\n",
    "\n",
    "#I am never saving these, In fact, I don't want to see these in calculation log.\n",
    "a = cell(ewma, a = appl, n = 30) \n",
    "b = cell(ewma, a = appl, n = 50)\n",
    "\n",
    "# I may want to save these nodes but haven't made up my mind\n",
    "# I do want to see the calculations in the log though...\n",
    "# I replace db by the primary keys of table (here 'key'). \n",
    "# This allows as to see the calculation log as it happens. \n",
    "# data is not saved to db though until I switch to db = db as opposed to db = 'key'\n",
    "\n",
    "c = db_cell(sub_, a = a, b = b, key = 'calculate difference of ewma', db = 'key') \n",
    "d = db_cell(ewmrms, a = c, n = 100, key = 'root mean square of difference', db = 'key')\n",
    "\n",
    "# The final crossover I definitely want to save to db: \n",
    "final_value = db_cell(div_, a = c, b = d, key = 'appl_crossover', db = db)()"
   ]
  },
  {
   "cell_type": "code",
   "execution_count": 66,
   "id": "former-salem",
   "metadata": {},
   "outputs": [
    {
     "data": {
      "text/plain": [
       "['appl_crossover', 'appl_rtn']"
      ]
     },
     "execution_count": 66,
     "metadata": {},
     "output_type": "execute_result"
    }
   ],
   "source": [
    "db().key"
   ]
  },
  {
   "cell_type": "markdown",
   "id": "floppy-routine",
   "metadata": {},
   "source": [
    "So although we had several intermediate steps, we decided to save just the final crossover in the database, If we look at the inputs for the function, you can see that the values are not saved in the database, though the full calculation tree _is_. \n",
    "<br> Therefore, one can reload the node and then recalculate all the intermediate values on the fly"
   ]
  },
  {
   "cell_type": "code",
   "execution_count": 67,
   "id": "another-architect",
   "metadata": {},
   "outputs": [
    {
     "name": "stderr",
     "output_type": "stream",
     "text": [
      "2021-10-28 19:36:58,631 - pyg - INFO - get_cell(url = 'localhost:27017', db = 'test', table = 'test', key = 'appl_crossover')()\n",
      "2021-10-28 19:36:58,633 - pyg - INFO - get_cell(key = 'calculate difference of ewma')()\n",
      "2021-10-28 19:36:58,784 - pyg - INFO - get_cell(key = 'root mean square of difference')()\n",
      "2021-10-28 19:36:58,786 - pyg - INFO - get_cell(key = 'calculate difference of ewma')()\n"
     ]
    }
   ],
   "source": [
    "loaded_and_recalculated = (db()[dict(key = 'appl_crossover')] - 'data').go(1) ## but once recalculated, we can assert we got the same result\n",
    "assert eq(loaded_and_recalculated.data, final_value.data)"
   ]
  },
  {
   "cell_type": "markdown",
   "id": "jewish-corruption",
   "metadata": {},
   "source": [
    "## Behind the scene: cell_func\n",
    "Behind the scene of cell, there is machinary designed to make it work smoothly and transparently in most cases. However, sometimes the user may need to dig deeper. Here is an example for code that fails..."
   ]
  },
  {
   "cell_type": "code",
   "execution_count": 68,
   "id": "environmental-samuel",
   "metadata": {},
   "outputs": [],
   "source": [
    "from pyg import *\n",
    "import pytest\n",
    "\n",
    "def twox(x):\n",
    "    return x*2\n",
    "a = cell(a = 1)\n",
    "c = cell(twox, x = a)\n",
    "\n",
    "with pytest.raises(KeyError):\n",
    "    c()"
   ]
  },
  {
   "cell_type": "markdown",
   "id": "minute-municipality",
   "metadata": {},
   "source": [
    "c tries to run the function. The function demands parameter x. When looking at the cells provided, cell 'a' does not contain anything like 'x' so the function fails."
   ]
  },
  {
   "cell_type": "code",
   "execution_count": 69,
   "id": "interested-ensemble",
   "metadata": {},
   "outputs": [
    {
     "data": {
      "text/plain": [
       "cell\n",
       "x:\n",
       "    cell\n",
       "    {'data': 1, 'function': None}\n",
       "function:\n",
       "    <function twox at 0x00000184D6CA7AF0>\n",
       "data:\n",
       "    2"
      ]
     },
     "execution_count": 69,
     "metadata": {},
     "output_type": "execute_result"
    }
   ],
   "source": [
    "a = cell(data = 1)\n",
    "cell(twox, x = a)()"
   ]
  },
  {
   "cell_type": "markdown",
   "id": "brave-serbia",
   "metadata": {},
   "source": [
    "'data' key has a preferred status so although 'x' is not in the cell, we assume but default that 'data' parameter is the one the cell wants to present to the world. This is controlled by cell_output function:"
   ]
  },
  {
   "cell_type": "code",
   "execution_count": 70,
   "id": "productive-series",
   "metadata": {},
   "outputs": [
    {
     "data": {
      "text/plain": [
       "['data']"
      ]
     },
     "execution_count": 70,
     "metadata": {},
     "output_type": "execute_result"
    }
   ],
   "source": [
    "cell_output(a)"
   ]
  },
  {
   "cell_type": "code",
   "execution_count": 71,
   "id": "confused-alloy",
   "metadata": {},
   "outputs": [
    {
     "data": {
      "text/plain": [
       "(['myoutput'], 3)"
      ]
     },
     "execution_count": 71,
     "metadata": {},
     "output_type": "execute_result"
    }
   ],
   "source": [
    "a = cell(data = 1, myoutput = 3, output = 'myoutput') ## you can decide your output is different\n",
    "cell_output(a), cell_item(a)"
   ]
  },
  {
   "cell_type": "code",
   "execution_count": 72,
   "id": "incorrect-engagement",
   "metadata": {},
   "outputs": [
    {
     "data": {
      "text/plain": [
       "cell\n",
       "x:\n",
       "    cell\n",
       "    {'data': 1, 'myoutput': 3, 'function': None, 'output': 'myoutput'}\n",
       "function:\n",
       "    <function twox at 0x00000184D6CA7AF0>\n",
       "data:\n",
       "    6"
      ]
     },
     "execution_count": 72,
     "metadata": {},
     "output_type": "execute_result"
    }
   ],
   "source": [
    "cell(twox, x = a)()"
   ]
  },
  {
   "cell_type": "markdown",
   "id": "continuing-reunion",
   "metadata": {},
   "source": [
    "That is good but what happens if the cell has MORE than one output or we want to direct the function to grab another key?"
   ]
  },
  {
   "cell_type": "code",
   "execution_count": 73,
   "id": "hearing-integrity",
   "metadata": {},
   "outputs": [
    {
     "data": {
      "text/plain": [
       "cell\n",
       "x:\n",
       "    cell\n",
       "    {'a': 1, 'function': None}\n",
       "function:\n",
       "    cell_func\n",
       "    relabels:\n",
       "        {'x': 'a'}\n",
       "    unloaded:\n",
       "        []\n",
       "    unitemized:\n",
       "        []\n",
       "    uncalled:\n",
       "        []\n",
       "    function:\n",
       "        <function twox at 0x00000184D6CA7AF0>\n",
       "data:\n",
       "    2"
      ]
     },
     "execution_count": 73,
     "metadata": {},
     "output_type": "execute_result"
    }
   ],
   "source": [
    "a = cell(a = 1) ## this has failed...\n",
    "cell(cell_func(twox, x = 'a'), x = a)() ## when you grab x, use 'a' as key"
   ]
  },
  {
   "cell_type": "markdown",
   "id": "grave-emphasis",
   "metadata": {},
   "source": [
    "What if you need the cell itself rather than the items in it?"
   ]
  },
  {
   "cell_type": "code",
   "execution_count": 74,
   "id": "weekly-ecology",
   "metadata": {},
   "outputs": [
    {
     "data": {
      "text/plain": [
       "cell\n",
       "x:\n",
       "    cell\n",
       "    {'a': 1, 'b': 2, 'function': None}\n",
       "function:\n",
       "    cell_func\n",
       "    relabels:\n",
       "        {}\n",
       "    unloaded:\n",
       "        []\n",
       "    unitemized:\n",
       "        ['x']\n",
       "    uncalled:\n",
       "        []\n",
       "    function:\n",
       "        <function add_a_and_b at 0x00000184D6E6EDC0>\n",
       "data:\n",
       "    3"
      ]
     },
     "execution_count": 74,
     "metadata": {},
     "output_type": "execute_result"
    }
   ],
   "source": [
    "def add_a_and_b(x):\n",
    "    return x.a + x.b\n",
    "\n",
    "x = cell(a = 1, b = 2)\n",
    "\n",
    "cell(cell_func(add_a_and_b, unitemized = 'x'), x = x)()"
   ]
  },
  {
   "cell_type": "markdown",
   "id": "stone-complex",
   "metadata": {},
   "source": [
    "We can see that the cell x itself is presented to the function and x.a + x.b is calculated and data == 3"
   ]
  }
 ],
 "metadata": {
  "kernelspec": {
   "display_name": "Python 3 (ipykernel)",
   "language": "python",
   "name": "python3"
  },
  "language_info": {
   "codemirror_mode": {
    "name": "ipython",
    "version": 3
   },
   "file_extension": ".py",
   "mimetype": "text/x-python",
   "name": "python",
   "nbconvert_exporter": "python",
   "pygments_lexer": "ipython3",
   "version": "3.9.7"
  }
 },
 "nbformat": 4,
 "nbformat_minor": 5
}
